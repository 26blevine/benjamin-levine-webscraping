{
 "cells": [
  {
   "cell_type": "code",
   "execution_count": 1,
   "id": "d2251438-2f64-455a-9695-9e7a59ed827e",
   "metadata": {},
   "outputs": [
    {
     "name": "stdout",
     "output_type": "stream",
     "text": [
      "Downloading Chromium 140.0.7339.16 (playwright build v1187)\u001b[2m from https://cdn.playwright.dev/dbazure/download/playwright/builds/chromium/1187/chromium-mac-arm64.zip\u001b[22m\n",
      "\u001b[1G129.7 MiB [                    ] 0% 0.0s\u001b[0K\u001b[1G129.7 MiB [                    ] 0% 14.5s\u001b[0K\u001b[1G129.7 MiB [                    ] 0% 6.9s\u001b[0K\u001b[1G129.7 MiB [                    ] 0% 5.0s\u001b[0K\u001b[1G129.7 MiB [                    ] 1% 5.0s\u001b[0K\u001b[1G129.7 MiB [                    ] 1% 4.1s\u001b[0K\u001b[1G129.7 MiB [                    ] 2% 3.9s\u001b[0K\u001b[1G129.7 MiB [=                   ] 3% 3.5s\u001b[0K\u001b[1G129.7 MiB [=                   ] 3% 3.3s\u001b[0K\u001b[1G129.7 MiB [=                   ] 4% 3.3s\u001b[0K\u001b[1G129.7 MiB [=                   ] 4% 3.6s\u001b[0K\u001b[1G129.7 MiB [=                   ] 5% 3.5s\u001b[0K\u001b[1G129.7 MiB [=                   ] 6% 3.4s\u001b[0K\u001b[1G129.7 MiB [=                   ] 7% 3.3s\u001b[0K\u001b[1G129.7 MiB [=                   ] 7% 3.4s\u001b[0K\u001b[1G129.7 MiB [==                  ] 7% 3.4s\u001b[0K\u001b[1G129.7 MiB [==                  ] 8% 3.3s\u001b[0K\u001b[1G129.7 MiB [==                  ] 9% 3.2s\u001b[0K\u001b[1G129.7 MiB [==                  ] 9% 3.1s\u001b[0K\u001b[1G129.7 MiB [==                  ] 10% 3.0s\u001b[0K\u001b[1G129.7 MiB [==                  ] 10% 3.3s\u001b[0K\u001b[1G129.7 MiB [==                  ] 11% 3.2s\u001b[0K\u001b[1G129.7 MiB [==                  ] 12% 3.2s\u001b[0K\u001b[1G129.7 MiB [===                 ] 12% 3.1s\u001b[0K\u001b[1G129.7 MiB [===                 ] 12% 3.2s\u001b[0K\u001b[1G129.7 MiB [===                 ] 13% 3.2s\u001b[0K\u001b[1G129.7 MiB [===                 ] 14% 3.1s\u001b[0K\u001b[1G129.7 MiB [===                 ] 15% 3.0s\u001b[0K\u001b[1G129.7 MiB [===                 ] 15% 3.1s\u001b[0K\u001b[1G129.7 MiB [===                 ] 16% 3.1s\u001b[0K\u001b[1G129.7 MiB [===                 ] 17% 3.0s\u001b[0K\u001b[1G129.7 MiB [====                ] 17% 3.0s\u001b[0K\u001b[1G129.7 MiB [====                ] 18% 2.9s\u001b[0K\u001b[1G129.7 MiB [====                ] 19% 2.9s\u001b[0K\u001b[1G129.7 MiB [====                ] 20% 2.8s\u001b[0K\u001b[1G129.7 MiB [====                ] 21% 2.8s\u001b[0K\u001b[1G129.7 MiB [====                ] 21% 2.9s\u001b[0K\u001b[1G129.7 MiB [=====               ] 22% 2.8s\u001b[0K\u001b[1G129.7 MiB [=====               ] 23% 2.8s\u001b[0K\u001b[1G129.7 MiB [=====               ] 24% 2.7s\u001b[0K\u001b[1G129.7 MiB [=====               ] 24% 2.8s\u001b[0K\u001b[1G129.7 MiB [=====               ] 24% 2.7s\u001b[0K\u001b[1G129.7 MiB [=====               ] 25% 2.7s\u001b[0K\u001b[1G129.7 MiB [=====               ] 26% 2.6s\u001b[0K\u001b[1G129.7 MiB [=====               ] 27% 2.6s\u001b[0K\u001b[1G129.7 MiB [======              ] 27% 2.6s\u001b[0K\u001b[1G129.7 MiB [======              ] 28% 2.6s\u001b[0K\u001b[1G129.7 MiB [======              ] 28% 2.5s\u001b[0K\u001b[1G129.7 MiB [======              ] 29% 2.5s\u001b[0K\u001b[1G129.7 MiB [======              ] 30% 2.6s\u001b[0K\u001b[1G129.7 MiB [======              ] 31% 2.6s\u001b[0K\u001b[1G129.7 MiB [======              ] 32% 2.5s\u001b[0K\u001b[1G129.7 MiB [=======             ] 32% 2.5s\u001b[0K\u001b[1G129.7 MiB [=======             ] 33% 2.5s\u001b[0K\u001b[1G129.7 MiB [=======             ] 34% 2.6s\u001b[0K\u001b[1G129.7 MiB [=======             ] 34% 2.5s\u001b[0K\u001b[1G129.7 MiB [=======             ] 35% 2.5s\u001b[0K\u001b[1G129.7 MiB [=======             ] 35% 2.6s\u001b[0K\u001b[1G129.7 MiB [=======             ] 36% 2.5s\u001b[0K\u001b[1G129.7 MiB [=======             ] 37% 2.5s\u001b[0K\u001b[1G129.7 MiB [========            ] 37% 2.5s\u001b[0K\u001b[1G129.7 MiB [========            ] 38% 2.5s\u001b[0K\u001b[1G129.7 MiB [========            ] 38% 2.4s\u001b[0K\u001b[1G129.7 MiB [========            ] 39% 2.4s\u001b[0K\u001b[1G129.7 MiB [========            ] 40% 2.3s\u001b[0K\u001b[1G129.7 MiB [========            ] 40% 2.4s\u001b[0K\u001b[1G129.7 MiB [========            ] 41% 2.4s\u001b[0K\u001b[1G129.7 MiB [========            ] 41% 2.3s\u001b[0K\u001b[1G129.7 MiB [========            ] 42% 2.3s\u001b[0K\u001b[1G129.7 MiB [========            ] 42% 2.4s\u001b[0K\u001b[1G129.7 MiB [=========           ] 43% 2.3s\u001b[0K\u001b[1G129.7 MiB [=========           ] 44% 2.2s\u001b[0K\u001b[1G129.7 MiB [=========           ] 45% 2.2s\u001b[0K\u001b[1G129.7 MiB [=========           ] 46% 2.1s\u001b[0K\u001b[1G129.7 MiB [=========           ] 47% 2.1s\u001b[0K\u001b[1G129.7 MiB [==========          ] 47% 2.1s\u001b[0K\u001b[1G129.7 MiB [==========          ] 48% 2.0s\u001b[0K\u001b[1G129.7 MiB [==========          ] 49% 2.0s\u001b[0K\u001b[1G129.7 MiB [==========          ] 50% 2.0s\u001b[0K\u001b[1G129.7 MiB [==========          ] 50% 1.9s\u001b[0K\u001b[1G129.7 MiB [==========          ] 51% 1.9s\u001b[0K\u001b[1G129.7 MiB [==========          ] 52% 1.9s\u001b[0K\u001b[1G129.7 MiB [===========         ] 52% 1.9s\u001b[0K\u001b[1G129.7 MiB [===========         ] 53% 1.8s\u001b[0K\u001b[1G129.7 MiB [===========         ] 54% 1.8s\u001b[0K\u001b[1G129.7 MiB [===========         ] 55% 1.7s\u001b[0K\u001b[1G129.7 MiB [===========         ] 56% 1.7s\u001b[0K\u001b[1G129.7 MiB [===========         ] 57% 1.7s\u001b[0K\u001b[1G129.7 MiB [============        ] 57% 1.6s\u001b[0K\u001b[1G129.7 MiB [============        ] 58% 1.6s\u001b[0K\u001b[1G129.7 MiB [============        ] 59% 1.6s\u001b[0K\u001b[1G129.7 MiB [============        ] 60% 1.5s\u001b[0K\u001b[1G129.7 MiB [============        ] 61% 1.5s\u001b[0K\u001b[1G129.7 MiB [============        ] 62% 1.4s\u001b[0K\u001b[1G129.7 MiB [=============       ] 62% 1.4s\u001b[0K\u001b[1G129.7 MiB [=============       ] 63% 1.4s\u001b[0K\u001b[1G129.7 MiB [=============       ] 64% 1.4s\u001b[0K\u001b[1G129.7 MiB [=============       ] 64% 1.3s\u001b[0K\u001b[1G129.7 MiB [=============       ] 65% 1.3s\u001b[0K\u001b[1G129.7 MiB [=============       ] 66% 1.3s\u001b[0K\u001b[1G129.7 MiB [=============       ] 66% 1.2s\u001b[0K\u001b[1G129.7 MiB [=============       ] 67% 1.2s\u001b[0K\u001b[1G129.7 MiB [==============      ] 67% 1.2s\u001b[0K\u001b[1G129.7 MiB [==============      ] 68% 1.2s\u001b[0K\u001b[1G129.7 MiB [==============      ] 69% 1.1s\u001b[0K\u001b[1G129.7 MiB [==============      ] 70% 1.1s\u001b[0K\u001b[1G129.7 MiB [==============      ] 71% 1.1s\u001b[0K\u001b[1G129.7 MiB [==============      ] 72% 1.0s\u001b[0K\u001b[1G129.7 MiB [===============     ] 72% 1.0s\u001b[0K\u001b[1G129.7 MiB [===============     ] 73% 1.0s\u001b[0K\u001b[1G129.7 MiB [===============     ] 74% 1.0s\u001b[0K\u001b[1G129.7 MiB [===============     ] 74% 0.9s\u001b[0K\u001b[1G129.7 MiB [===============     ] 75% 0.9s\u001b[0K\u001b[1G129.7 MiB [===============     ] 76% 0.9s\u001b[0K\u001b[1G129.7 MiB [===============     ] 77% 0.8s\u001b[0K\u001b[1G129.7 MiB [================    ] 77% 0.8s\u001b[0K\u001b[1G129.7 MiB [================    ] 78% 0.8s\u001b[0K\u001b[1G129.7 MiB [================    ] 79% 0.8s\u001b[0K\u001b[1G129.7 MiB [================    ] 80% 0.7s\u001b[0K\u001b[1G129.7 MiB [================    ] 81% 0.7s\u001b[0K\u001b[1G129.7 MiB [================    ] 82% 0.7s\u001b[0K\u001b[1G129.7 MiB [=================   ] 82% 0.6s\u001b[0K\u001b[1G129.7 MiB [=================   ] 83% 0.6s\u001b[0K\u001b[1G129.7 MiB [=================   ] 84% 0.6s\u001b[0K\u001b[1G129.7 MiB [=================   ] 85% 0.6s\u001b[0K\u001b[1G129.7 MiB [=================   ] 85% 0.5s\u001b[0K\u001b[1G129.7 MiB [=================   ] 86% 0.5s\u001b[0K\u001b[1G129.7 MiB [=================   ] 87% 0.5s\u001b[0K\u001b[1G129.7 MiB [==================  ] 87% 0.5s\u001b[0K\u001b[1G129.7 MiB [==================  ] 88% 0.4s\u001b[0K\u001b[1G129.7 MiB [==================  ] 89% 0.4s\u001b[0K\u001b[1G129.7 MiB [==================  ] 90% 0.4s\u001b[0K\u001b[1G129.7 MiB [==================  ] 91% 0.3s\u001b[0K\u001b[1G129.7 MiB [==================  ] 92% 0.3s\u001b[0K\u001b[1G129.7 MiB [=================== ] 93% 0.3s\u001b[0K\u001b[1G129.7 MiB [=================== ] 93% 0.2s\u001b[0K\u001b[1G129.7 MiB [=================== ] 94% 0.2s\u001b[0K\u001b[1G129.7 MiB [=================== ] 95% 0.2s\u001b[0K\u001b[1G129.7 MiB [=================== ] 96% 0.1s\u001b[0K\u001b[1G129.7 MiB [====================] 97% 0.1s\u001b[0K\u001b[1G129.7 MiB [====================] 98% 0.1s\u001b[0K\u001b[1G129.7 MiB [====================] 99% 0.0s\u001b[0K\u001b[1G129.7 MiB [====================] 100% 0.0s\u001b[0K\n",
      "Chromium 140.0.7339.16 (playwright build v1187) downloaded to /Users/benjaminlevine/Library/Caches/ms-playwright/chromium-1187\n",
      "Downloading FFMPEG playwright build v1011\u001b[2m from https://cdn.playwright.dev/dbazure/download/playwright/builds/ffmpeg/1011/ffmpeg-mac-arm64.zip\u001b[22m\n",
      "\u001b[1G1 MiB [                    ] 1% 0.0s\u001b[0K\u001b[1G1 MiB [====                ] 21% 0.1s\u001b[0K\u001b[1G1 MiB [=========           ] 45% 0.1s\u001b[0K\u001b[1G1 MiB [====================] 100% 0.0s\u001b[0K\n",
      "FFMPEG playwright build v1011 downloaded to /Users/benjaminlevine/Library/Caches/ms-playwright/ffmpeg-1011\n",
      "Downloading Chromium Headless Shell 140.0.7339.16 (playwright build v1187)\u001b[2m from https://cdn.playwright.dev/dbazure/download/playwright/builds/chromium/1187/chromium-headless-shell-mac-arm64.zip\u001b[22m\n",
      "\u001b[1G81.9 MiB [                    ] 0% 0.0s\u001b[0K\u001b[1G81.9 MiB [                    ] 0% 5.2s\u001b[0K\u001b[1G81.9 MiB [                    ] 0% 5.0s\u001b[0K\u001b[1G81.9 MiB [                    ] 1% 3.2s\u001b[0K\u001b[1G81.9 MiB [                    ] 1% 5.0s\u001b[0K\u001b[1G81.9 MiB [=                   ] 2% 3.7s\u001b[0K\u001b[1G81.9 MiB [=                   ] 3% 3.4s\u001b[0K\u001b[1G81.9 MiB [=                   ] 4% 3.0s\u001b[0K\u001b[1G81.9 MiB [=                   ] 5% 2.7s\u001b[0K\u001b[1G81.9 MiB [=                   ] 5% 3.0s\u001b[0K\u001b[1G81.9 MiB [=                   ] 6% 2.8s\u001b[0K\u001b[1G81.9 MiB [==                  ] 7% 2.5s\u001b[0K\u001b[1G81.9 MiB [==                  ] 8% 2.4s\u001b[0K\u001b[1G81.9 MiB [==                  ] 9% 2.3s\u001b[0K\u001b[1G81.9 MiB [==                  ] 10% 2.4s\u001b[0K\u001b[1G81.9 MiB [==                  ] 11% 2.3s\u001b[0K\u001b[1G81.9 MiB [==                  ] 12% 2.2s\u001b[0K\u001b[1G81.9 MiB [===                 ] 12% 2.2s\u001b[0K\u001b[1G81.9 MiB [===                 ] 13% 2.1s\u001b[0K\u001b[1G81.9 MiB [===                 ] 14% 2.0s\u001b[0K\u001b[1G81.9 MiB [===                 ] 15% 2.1s\u001b[0K\u001b[1G81.9 MiB [===                 ] 16% 2.0s\u001b[0K\u001b[1G81.9 MiB [===                 ] 17% 1.9s\u001b[0K\u001b[1G81.9 MiB [====                ] 18% 1.9s\u001b[0K\u001b[1G81.9 MiB [====                ] 19% 1.8s\u001b[0K\u001b[1G81.9 MiB [====                ] 20% 1.8s\u001b[0K\u001b[1G81.9 MiB [====                ] 21% 1.8s\u001b[0K\u001b[1G81.9 MiB [====                ] 22% 1.8s\u001b[0K\u001b[1G81.9 MiB [=====               ] 23% 1.7s\u001b[0K\u001b[1G81.9 MiB [=====               ] 24% 1.7s\u001b[0K\u001b[1G81.9 MiB [=====               ] 25% 1.7s\u001b[0K\u001b[1G81.9 MiB [=====               ] 26% 1.7s\u001b[0K\u001b[1G81.9 MiB [=====               ] 27% 1.6s\u001b[0K\u001b[1G81.9 MiB [======              ] 28% 1.6s\u001b[0K\u001b[1G81.9 MiB [======              ] 29% 1.6s\u001b[0K\u001b[1G81.9 MiB [======              ] 30% 1.6s\u001b[0K\u001b[1G81.9 MiB [======              ] 30% 1.5s\u001b[0K\u001b[1G81.9 MiB [======              ] 31% 1.5s\u001b[0K\u001b[1G81.9 MiB [=======             ] 32% 1.5s\u001b[0K\u001b[1G81.9 MiB [=======             ] 33% 1.5s\u001b[0K\u001b[1G81.9 MiB [=======             ] 34% 1.4s\u001b[0K\u001b[1G81.9 MiB [=======             ] 35% 1.4s\u001b[0K\u001b[1G81.9 MiB [=======             ] 36% 1.4s\u001b[0K\u001b[1G81.9 MiB [========            ] 37% 1.4s\u001b[0K\u001b[1G81.9 MiB [========            ] 38% 1.3s\u001b[0K\u001b[1G81.9 MiB [========            ] 39% 1.3s\u001b[0K\u001b[1G81.9 MiB [========            ] 40% 1.3s\u001b[0K\u001b[1G81.9 MiB [========            ] 41% 1.3s\u001b[0K\u001b[1G81.9 MiB [=========           ] 42% 1.2s\u001b[0K\u001b[1G81.9 MiB [=========           ] 43% 1.2s\u001b[0K\u001b[1G81.9 MiB [=========           ] 44% 1.2s\u001b[0K\u001b[1G81.9 MiB [=========           ] 45% 1.2s\u001b[0K\u001b[1G81.9 MiB [=========           ] 46% 1.2s\u001b[0K\u001b[1G81.9 MiB [=========           ] 46% 1.1s\u001b[0K\u001b[1G81.9 MiB [=========           ] 47% 1.1s\u001b[0K\u001b[1G81.9 MiB [==========          ] 48% 1.1s\u001b[0K\u001b[1G81.9 MiB [==========          ] 49% 1.1s\u001b[0K\u001b[1G81.9 MiB [==========          ] 50% 1.1s\u001b[0K\u001b[1G81.9 MiB [==========          ] 51% 1.0s\u001b[0K\u001b[1G81.9 MiB [===========         ] 52% 1.0s\u001b[0K\u001b[1G81.9 MiB [===========         ] 53% 1.0s\u001b[0K\u001b[1G81.9 MiB [===========         ] 54% 1.0s\u001b[0K\u001b[1G81.9 MiB [===========         ] 55% 1.0s\u001b[0K\u001b[1G81.9 MiB [===========         ] 56% 0.9s\u001b[0K\u001b[1G81.9 MiB [============        ] 57% 0.9s\u001b[0K\u001b[1G81.9 MiB [============        ] 58% 0.9s\u001b[0K\u001b[1G81.9 MiB [============        ] 59% 0.9s\u001b[0K\u001b[1G81.9 MiB [============        ] 60% 0.9s\u001b[0K\u001b[1G81.9 MiB [============        ] 61% 0.9s\u001b[0K\u001b[1G81.9 MiB [=============       ] 62% 0.8s\u001b[0K\u001b[1G81.9 MiB [=============       ] 63% 0.8s\u001b[0K\u001b[1G81.9 MiB [=============       ] 64% 0.8s\u001b[0K\u001b[1G81.9 MiB [=============       ] 65% 0.8s\u001b[0K\u001b[1G81.9 MiB [=============       ] 66% 0.7s\u001b[0K\u001b[1G81.9 MiB [==============      ] 67% 0.7s\u001b[0K\u001b[1G81.9 MiB [==============      ] 68% 0.7s\u001b[0K\u001b[1G81.9 MiB [==============      ] 69% 0.7s\u001b[0K\u001b[1G81.9 MiB [==============      ] 70% 0.7s\u001b[0K\u001b[1G81.9 MiB [==============      ] 71% 0.6s\u001b[0K\u001b[1G81.9 MiB [==============      ] 72% 0.6s\u001b[0K\u001b[1G81.9 MiB [===============     ] 73% 0.6s\u001b[0K\u001b[1G81.9 MiB [===============     ] 74% 0.6s\u001b[0K\u001b[1G81.9 MiB [===============     ] 75% 0.5s\u001b[0K\u001b[1G81.9 MiB [===============     ] 76% 0.5s\u001b[0K\u001b[1G81.9 MiB [================    ] 77% 0.5s\u001b[0K\u001b[1G81.9 MiB [================    ] 78% 0.5s\u001b[0K\u001b[1G81.9 MiB [================    ] 79% 0.5s\u001b[0K\u001b[1G81.9 MiB [================    ] 80% 0.4s\u001b[0K\u001b[1G81.9 MiB [================    ] 81% 0.4s\u001b[0K\u001b[1G81.9 MiB [================    ] 82% 0.4s\u001b[0K\u001b[1G81.9 MiB [=================   ] 82% 0.4s\u001b[0K\u001b[1G81.9 MiB [=================   ] 83% 0.4s\u001b[0K\u001b[1G81.9 MiB [=================   ] 84% 0.3s\u001b[0K\u001b[1G81.9 MiB [=================   ] 85% 0.3s\u001b[0K\u001b[1G81.9 MiB [=================   ] 86% 0.3s\u001b[0K\u001b[1G81.9 MiB [=================   ] 87% 0.3s\u001b[0K\u001b[1G81.9 MiB [==================  ] 87% 0.3s\u001b[0K\u001b[1G81.9 MiB [==================  ] 88% 0.2s\u001b[0K\u001b[1G81.9 MiB [==================  ] 89% 0.2s\u001b[0K\u001b[1G81.9 MiB [==================  ] 90% 0.2s\u001b[0K\u001b[1G81.9 MiB [==================  ] 91% 0.2s\u001b[0K\u001b[1G81.9 MiB [=================== ] 92% 0.2s\u001b[0K\u001b[1G81.9 MiB [=================== ] 93% 0.1s\u001b[0K\u001b[1G81.9 MiB [=================== ] 94% 0.1s\u001b[0K\u001b[1G81.9 MiB [=================== ] 95% 0.1s\u001b[0K\u001b[1G81.9 MiB [=================== ] 96% 0.1s\u001b[0K\u001b[1G81.9 MiB [====================] 97% 0.0s\u001b[0K\u001b[1G81.9 MiB [====================] 98% 0.0s\u001b[0K\u001b[1G81.9 MiB [====================] 99% 0.0s\u001b[0K\u001b[1G81.9 MiB [====================] 100% 0.0s\u001b[0K\n",
      "Chromium Headless Shell 140.0.7339.16 (playwright build v1187) downloaded to /Users/benjaminlevine/Library/Caches/ms-playwright/chromium_headless_shell-1187\n"
     ]
    }
   ],
   "source": [
    "# Install Playwright and its system/browser dependencies in this Colab VM\n",
    "!pip -q install playwright\n",
    "\n",
    "# Install required Linux libraries (Debian/Ubuntu) for browsers\n",
    "!python -m playwright install-deps\n",
    "\n",
    "# Install just Chromium to keep it light (you can do 'playwright install' to get all)\n",
    "!python -m playwright install chromium\n"
   ]
  },
  {
   "cell_type": "code",
   "execution_count": 2,
   "id": "107f31b7-1a19-4a0c-a908-5d717aec4ab2",
   "metadata": {},
   "outputs": [
    {
     "name": "stdout",
     "output_type": "stream",
     "text": [
      "Downloading Firefox 141.0 (playwright build v1490)\u001b[2m from https://cdn.playwright.dev/dbazure/download/playwright/builds/firefox/1490/firefox-mac-arm64.zip\u001b[22m\n",
      "\u001b[1G89.2 MiB [                    ] 0% 0.0s\u001b[0K\u001b[1G89.2 MiB [                    ] 0% 37.3s\u001b[0K\u001b[1G89.2 MiB [                    ] 0% 28.6s\u001b[0K\u001b[1G89.2 MiB [                    ] 0% 25.6s\u001b[0K\u001b[1G89.2 MiB [                    ] 0% 14.6s\u001b[0K\u001b[1G89.2 MiB [                    ] 0% 10.9s\u001b[0K\u001b[1G89.2 MiB [                    ] 1% 8.5s\u001b[0K\u001b[1G89.2 MiB [                    ] 1% 7.1s\u001b[0K\u001b[1G89.2 MiB [                    ] 2% 6.1s\u001b[0K\u001b[1G89.2 MiB [                    ] 2% 7.0s\u001b[0K\u001b[1G89.2 MiB [                    ] 2% 7.7s\u001b[0K\u001b[1G89.2 MiB [                    ] 2% 8.3s\u001b[0K\u001b[1G89.2 MiB [                    ] 2% 9.6s\u001b[0K\u001b[1G89.2 MiB [=                   ] 2% 8.8s\u001b[0K\u001b[1G89.2 MiB [=                   ] 3% 8.1s\u001b[0K\u001b[1G89.2 MiB [=                   ] 3% 7.0s\u001b[0K\u001b[1G89.2 MiB [=                   ] 4% 6.8s\u001b[0K\u001b[1G89.2 MiB [=                   ] 4% 7.2s\u001b[0K\u001b[1G89.2 MiB [=                   ] 5% 6.4s\u001b[0K\u001b[1G89.2 MiB [=                   ] 6% 5.8s\u001b[0K\u001b[1G89.2 MiB [=                   ] 6% 5.7s\u001b[0K\u001b[1G89.2 MiB [=                   ] 6% 5.8s\u001b[0K\u001b[1G89.2 MiB [==                  ] 7% 5.3s\u001b[0K\u001b[1G89.2 MiB [==                  ] 8% 4.9s\u001b[0K\u001b[1G89.2 MiB [==                  ] 8% 5.6s\u001b[0K\u001b[1G89.2 MiB [==                  ] 9% 5.2s\u001b[0K\u001b[1G89.2 MiB [==                  ] 10% 4.8s\u001b[0K\u001b[1G89.2 MiB [==                  ] 11% 5.3s\u001b[0K\u001b[1G89.2 MiB [==                  ] 12% 5.0s\u001b[0K\u001b[1G89.2 MiB [===                 ] 12% 4.8s\u001b[0K\u001b[1G89.2 MiB [===                 ] 13% 5.2s\u001b[0K\u001b[1G89.2 MiB [===                 ] 14% 4.9s\u001b[0K\u001b[1G89.2 MiB [===                 ] 14% 5.0s\u001b[0K\u001b[1G89.2 MiB [===                 ] 14% 4.9s\u001b[0K\u001b[1G89.2 MiB [===                 ] 15% 4.9s\u001b[0K\u001b[1G89.2 MiB [===                 ] 16% 4.7s\u001b[0K\u001b[1G89.2 MiB [===                 ] 16% 4.8s\u001b[0K\u001b[1G89.2 MiB [===                 ] 17% 4.6s\u001b[0K\u001b[1G89.2 MiB [====                ] 17% 4.7s\u001b[0K\u001b[1G89.2 MiB [====                ] 17% 4.8s\u001b[0K\u001b[1G89.2 MiB [====                ] 18% 4.6s\u001b[0K\u001b[1G89.2 MiB [====                ] 19% 4.4s\u001b[0K\u001b[1G89.2 MiB [====                ] 20% 4.6s\u001b[0K\u001b[1G89.2 MiB [====                ] 21% 4.4s\u001b[0K\u001b[1G89.2 MiB [====                ] 21% 4.2s\u001b[0K\u001b[1G89.2 MiB [====                ] 22% 4.6s\u001b[0K\u001b[1G89.2 MiB [=====               ] 22% 4.5s\u001b[0K\u001b[1G89.2 MiB [=====               ] 22% 4.6s\u001b[0K\u001b[1G89.2 MiB [=====               ] 23% 4.4s\u001b[0K\u001b[1G89.2 MiB [=====               ] 24% 4.3s\u001b[0K\u001b[1G89.2 MiB [=====               ] 24% 4.5s\u001b[0K\u001b[1G89.2 MiB [=====               ] 25% 4.4s\u001b[0K\u001b[1G89.2 MiB [=====               ] 26% 4.3s\u001b[0K\u001b[1G89.2 MiB [=====               ] 26% 4.4s\u001b[0K\u001b[1G89.2 MiB [=====               ] 27% 4.4s\u001b[0K\u001b[1G89.2 MiB [======              ] 27% 4.4s\u001b[0K\u001b[1G89.2 MiB [======              ] 28% 4.2s\u001b[0K\u001b[1G89.2 MiB [======              ] 29% 4.2s\u001b[0K\u001b[1G89.2 MiB [======              ] 29% 4.1s\u001b[0K\u001b[1G89.2 MiB [======              ] 30% 4.1s\u001b[0K\u001b[1G89.2 MiB [======              ] 30% 4.0s\u001b[0K\u001b[1G89.2 MiB [======              ] 31% 4.1s\u001b[0K\u001b[1G89.2 MiB [======              ] 32% 4.0s\u001b[0K\u001b[1G89.2 MiB [=======             ] 32% 4.0s\u001b[0K\u001b[1G89.2 MiB [=======             ] 32% 4.1s\u001b[0K\u001b[1G89.2 MiB [=======             ] 33% 3.9s\u001b[0K\u001b[1G89.2 MiB [=======             ] 34% 3.8s\u001b[0K\u001b[1G89.2 MiB [=======             ] 35% 3.7s\u001b[0K\u001b[1G89.2 MiB [=======             ] 35% 3.8s\u001b[0K\u001b[1G89.2 MiB [=======             ] 36% 3.7s\u001b[0K\u001b[1G89.2 MiB [=======             ] 37% 3.6s\u001b[0K\u001b[1G89.2 MiB [========            ] 38% 3.6s\u001b[0K\u001b[1G89.2 MiB [========            ] 38% 3.5s\u001b[0K\u001b[1G89.2 MiB [========            ] 39% 3.5s\u001b[0K\u001b[1G89.2 MiB [========            ] 39% 3.4s\u001b[0K\u001b[1G89.2 MiB [========            ] 40% 3.5s\u001b[0K\u001b[1G89.2 MiB [========            ] 41% 3.4s\u001b[0K\u001b[1G89.2 MiB [========            ] 42% 3.3s\u001b[0K\u001b[1G89.2 MiB [=========           ] 42% 3.3s\u001b[0K\u001b[1G89.2 MiB [=========           ] 43% 3.3s\u001b[0K\u001b[1G89.2 MiB [=========           ] 44% 3.2s\u001b[0K\u001b[1G89.2 MiB [=========           ] 45% 3.2s\u001b[0K\u001b[1G89.2 MiB [=========           ] 46% 3.1s\u001b[0K\u001b[1G89.2 MiB [=========           ] 46% 3.0s\u001b[0K\u001b[1G89.2 MiB [=========           ] 47% 3.0s\u001b[0K\u001b[1G89.2 MiB [==========          ] 48% 2.9s\u001b[0K\u001b[1G89.2 MiB [==========          ] 49% 2.8s\u001b[0K\u001b[1G89.2 MiB [==========          ] 49% 2.9s\u001b[0K\u001b[1G89.2 MiB [==========          ] 50% 2.8s\u001b[0K\u001b[1G89.2 MiB [==========          ] 51% 2.7s\u001b[0K\u001b[1G89.2 MiB [==========          ] 51% 2.8s\u001b[0K\u001b[1G89.2 MiB [==========          ] 52% 2.7s\u001b[0K\u001b[1G89.2 MiB [===========         ] 53% 2.6s\u001b[0K\u001b[1G89.2 MiB [===========         ] 54% 2.6s\u001b[0K\u001b[1G89.2 MiB [===========         ] 55% 2.5s\u001b[0K\u001b[1G89.2 MiB [===========         ] 56% 2.5s\u001b[0K\u001b[1G89.2 MiB [===========         ] 57% 2.4s\u001b[0K\u001b[1G89.2 MiB [============        ] 58% 2.4s\u001b[0K\u001b[1G89.2 MiB [============        ] 58% 2.3s\u001b[0K\u001b[1G89.2 MiB [============        ] 59% 2.3s\u001b[0K\u001b[1G89.2 MiB [============        ] 60% 2.3s\u001b[0K\u001b[1G89.2 MiB [============        ] 60% 2.2s\u001b[0K\u001b[1G89.2 MiB [============        ] 61% 2.2s\u001b[0K\u001b[1G89.2 MiB [=============       ] 62% 2.1s\u001b[0K\u001b[1G89.2 MiB [=============       ] 63% 2.1s\u001b[0K\u001b[1G89.2 MiB [=============       ] 64% 2.0s\u001b[0K\u001b[1G89.2 MiB [=============       ] 65% 2.0s\u001b[0K\u001b[1G89.2 MiB [=============       ] 65% 1.9s\u001b[0K\u001b[1G89.2 MiB [=============       ] 66% 1.9s\u001b[0K\u001b[1G89.2 MiB [=============       ] 67% 1.9s\u001b[0K\u001b[1G89.2 MiB [==============      ] 67% 1.8s\u001b[0K\u001b[1G89.2 MiB [==============      ] 68% 1.7s\u001b[0K\u001b[1G89.2 MiB [==============      ] 69% 1.7s\u001b[0K\u001b[1G89.2 MiB [==============      ] 70% 1.7s\u001b[0K\u001b[1G89.2 MiB [==============      ] 70% 1.6s\u001b[0K\u001b[1G89.2 MiB [==============      ] 71% 1.6s\u001b[0K\u001b[1G89.2 MiB [===============     ] 72% 1.5s\u001b[0K\u001b[1G89.2 MiB [===============     ] 73% 1.5s\u001b[0K\u001b[1G89.2 MiB [===============     ] 74% 1.5s\u001b[0K\u001b[1G89.2 MiB [===============     ] 75% 1.4s\u001b[0K\u001b[1G89.2 MiB [===============     ] 76% 1.3s\u001b[0K\u001b[1G89.2 MiB [================    ] 77% 1.3s\u001b[0K\u001b[1G89.2 MiB [================    ] 78% 1.2s\u001b[0K\u001b[1G89.2 MiB [================    ] 79% 1.2s\u001b[0K\u001b[1G89.2 MiB [================    ] 80% 1.1s\u001b[0K\u001b[1G89.2 MiB [================    ] 81% 1.0s\u001b[0K\u001b[1G89.2 MiB [================    ] 82% 1.0s\u001b[0K\u001b[1G89.2 MiB [=================   ] 82% 1.0s\u001b[0K\u001b[1G89.2 MiB [=================   ] 83% 0.9s\u001b[0K\u001b[1G89.2 MiB [=================   ] 84% 0.9s\u001b[0K\u001b[1G89.2 MiB [=================   ] 85% 0.8s\u001b[0K\u001b[1G89.2 MiB [=================   ] 86% 0.8s\u001b[0K\u001b[1G89.2 MiB [=================   ] 87% 0.7s\u001b[0K\u001b[1G89.2 MiB [==================  ] 88% 0.7s\u001b[0K\u001b[1G89.2 MiB [==================  ] 88% 0.6s\u001b[0K\u001b[1G89.2 MiB [==================  ] 89% 0.6s\u001b[0K\u001b[1G89.2 MiB [==================  ] 90% 0.6s\u001b[0K\u001b[1G89.2 MiB [==================  ] 91% 0.5s\u001b[0K\u001b[1G89.2 MiB [==================  ] 92% 0.4s\u001b[0K\u001b[1G89.2 MiB [=================== ] 93% 0.4s\u001b[0K\u001b[1G89.2 MiB [=================== ] 93% 0.3s\u001b[0K\u001b[1G89.2 MiB [=================== ] 94% 0.3s\u001b[0K\u001b[1G89.2 MiB [=================== ] 95% 0.3s\u001b[0K\u001b[1G89.2 MiB [=================== ] 96% 0.2s\u001b[0K\u001b[1G89.2 MiB [=================== ] 97% 0.2s\u001b[0K\u001b[1G89.2 MiB [====================] 97% 0.1s\u001b[0K\u001b[1G89.2 MiB [====================] 98% 0.1s\u001b[0K\u001b[1G89.2 MiB [====================] 99% 0.0s\u001b[0K\u001b[1G89.2 MiB [====================] 100% 0.0s\u001b[0K\n",
      "Firefox 141.0 (playwright build v1490) downloaded to /Users/benjaminlevine/Library/Caches/ms-playwright/firefox-1490\n",
      "Downloading Webkit 26.0 (playwright build v2203)\u001b[2m from https://cdn.playwright.dev/dbazure/download/playwright/builds/webkit/2203/webkit-mac-15-arm64.zip\u001b[22m\n",
      "\u001b[1G70 MiB [                    ] 0% 0.0s\u001b[0K\u001b[1G70 MiB [                    ] 0% 4.7s\u001b[0K\u001b[1G70 MiB [                    ] 0% 3.7s\u001b[0K\u001b[1G70 MiB [                    ] 1% 2.7s\u001b[0K\u001b[1G70 MiB [                    ] 1% 6.2s\u001b[0K\u001b[1G70 MiB [=                   ] 2% 5.1s\u001b[0K\u001b[1G70 MiB [=                   ] 3% 4.2s\u001b[0K\u001b[1G70 MiB [=                   ] 3% 5.5s\u001b[0K\u001b[1G70 MiB [=                   ] 4% 4.7s\u001b[0K\u001b[1G70 MiB [=                   ] 5% 4.1s\u001b[0K\u001b[1G70 MiB [=                   ] 5% 4.3s\u001b[0K\u001b[1G70 MiB [=                   ] 6% 3.9s\u001b[0K\u001b[1G70 MiB [==                  ] 7% 3.7s\u001b[0K\u001b[1G70 MiB [==                  ] 8% 3.6s\u001b[0K\u001b[1G70 MiB [==                  ] 8% 3.5s\u001b[0K\u001b[1G70 MiB [==                  ] 9% 3.5s\u001b[0K\u001b[1G70 MiB [==                  ] 10% 3.4s\u001b[0K\u001b[1G70 MiB [==                  ] 11% 3.2s\u001b[0K\u001b[1G70 MiB [==                  ] 11% 3.1s\u001b[0K\u001b[1G70 MiB [===                 ] 12% 2.9s\u001b[0K\u001b[1G70 MiB [===                 ] 13% 2.8s\u001b[0K\u001b[1G70 MiB [===                 ] 14% 2.9s\u001b[0K\u001b[1G70 MiB [===                 ] 15% 2.8s\u001b[0K\u001b[1G70 MiB [===                 ] 16% 2.7s\u001b[0K\u001b[1G70 MiB [====                ] 17% 2.6s\u001b[0K\u001b[1G70 MiB [====                ] 17% 2.7s\u001b[0K\u001b[1G70 MiB [====                ] 18% 2.6s\u001b[0K\u001b[1G70 MiB [====                ] 19% 2.5s\u001b[0K\u001b[1G70 MiB [====                ] 20% 2.5s\u001b[0K\u001b[1G70 MiB [====                ] 21% 2.4s\u001b[0K\u001b[1G70 MiB [====                ] 21% 2.3s\u001b[0K\u001b[1G70 MiB [====                ] 22% 2.5s\u001b[0K\u001b[1G70 MiB [=====               ] 23% 2.4s\u001b[0K\u001b[1G70 MiB [=====               ] 23% 2.3s\u001b[0K\u001b[1G70 MiB [=====               ] 24% 2.3s\u001b[0K\u001b[1G70 MiB [=====               ] 25% 2.2s\u001b[0K\u001b[1G70 MiB [=====               ] 26% 2.2s\u001b[0K\u001b[1G70 MiB [=====               ] 27% 2.1s\u001b[0K\u001b[1G70 MiB [======              ] 27% 2.1s\u001b[0K\u001b[1G70 MiB [======              ] 28% 2.1s\u001b[0K\u001b[1G70 MiB [======              ] 29% 2.0s\u001b[0K\u001b[1G70 MiB [======              ] 30% 2.0s\u001b[0K\u001b[1G70 MiB [======              ] 31% 1.9s\u001b[0K\u001b[1G70 MiB [======              ] 32% 1.9s\u001b[0K\u001b[1G70 MiB [=======             ] 33% 1.9s\u001b[0K\u001b[1G70 MiB [=======             ] 33% 1.8s\u001b[0K\u001b[1G70 MiB [=======             ] 34% 1.8s\u001b[0K\u001b[1G70 MiB [=======             ] 35% 1.9s\u001b[0K\u001b[1G70 MiB [=======             ] 36% 1.8s\u001b[0K\u001b[1G70 MiB [=======             ] 37% 1.9s\u001b[0K\u001b[1G70 MiB [========            ] 38% 1.9s\u001b[0K\u001b[1G70 MiB [========            ] 39% 1.9s\u001b[0K\u001b[1G70 MiB [========            ] 40% 1.8s\u001b[0K\u001b[1G70 MiB [========            ] 41% 1.8s\u001b[0K\u001b[1G70 MiB [========            ] 41% 1.7s\u001b[0K\u001b[1G70 MiB [=========           ] 42% 1.7s\u001b[0K\u001b[1G70 MiB [=========           ] 43% 1.7s\u001b[0K\u001b[1G70 MiB [=========           ] 44% 1.7s\u001b[0K\u001b[1G70 MiB [=========           ] 45% 1.7s\u001b[0K\u001b[1G70 MiB [=========           ] 46% 1.7s\u001b[0K\u001b[1G70 MiB [=========           ] 47% 1.6s\u001b[0K\u001b[1G70 MiB [==========          ] 48% 1.6s\u001b[0K\u001b[1G70 MiB [==========          ] 49% 1.5s\u001b[0K\u001b[1G70 MiB [==========          ] 50% 1.5s\u001b[0K\u001b[1G70 MiB [==========          ] 51% 1.4s\u001b[0K\u001b[1G70 MiB [===========         ] 52% 1.4s\u001b[0K\u001b[1G70 MiB [===========         ] 53% 1.4s\u001b[0K\u001b[1G70 MiB [===========         ] 54% 1.3s\u001b[0K\u001b[1G70 MiB [===========         ] 54% 1.4s\u001b[0K\u001b[1G70 MiB [===========         ] 55% 1.3s\u001b[0K\u001b[1G70 MiB [===========         ] 56% 1.3s\u001b[0K\u001b[1G70 MiB [============        ] 57% 1.2s\u001b[0K\u001b[1G70 MiB [============        ] 58% 1.2s\u001b[0K\u001b[1G70 MiB [============        ] 59% 1.2s\u001b[0K\u001b[1G70 MiB [============        ] 60% 1.1s\u001b[0K\u001b[1G70 MiB [============        ] 61% 1.1s\u001b[0K\u001b[1G70 MiB [============        ] 62% 1.1s\u001b[0K\u001b[1G70 MiB [=============       ] 62% 1.1s\u001b[0K\u001b[1G70 MiB [=============       ] 63% 1.0s\u001b[0K\u001b[1G70 MiB [=============       ] 64% 1.0s\u001b[0K\u001b[1G70 MiB [=============       ] 65% 1.0s\u001b[0K\u001b[1G70 MiB [=============       ] 66% 1.0s\u001b[0K\u001b[1G70 MiB [=============       ] 67% 1.0s\u001b[0K\u001b[1G70 MiB [==============      ] 68% 0.9s\u001b[0K\u001b[1G70 MiB [==============      ] 69% 0.9s\u001b[0K\u001b[1G70 MiB [==============      ] 70% 0.9s\u001b[0K\u001b[1G70 MiB [==============      ] 70% 0.8s\u001b[0K\u001b[1G70 MiB [==============      ] 71% 0.8s\u001b[0K\u001b[1G70 MiB [==============      ] 72% 0.8s\u001b[0K\u001b[1G70 MiB [===============     ] 72% 0.8s\u001b[0K\u001b[1G70 MiB [===============     ] 73% 0.8s\u001b[0K\u001b[1G70 MiB [===============     ] 74% 0.7s\u001b[0K\u001b[1G70 MiB [===============     ] 75% 0.7s\u001b[0K\u001b[1G70 MiB [===============     ] 76% 0.7s\u001b[0K\u001b[1G70 MiB [===============     ] 77% 0.6s\u001b[0K\u001b[1G70 MiB [================    ] 77% 0.6s\u001b[0K\u001b[1G70 MiB [================    ] 78% 0.6s\u001b[0K\u001b[1G70 MiB [================    ] 79% 0.6s\u001b[0K\u001b[1G70 MiB [================    ] 80% 0.6s\u001b[0K\u001b[1G70 MiB [================    ] 81% 0.5s\u001b[0K\u001b[1G70 MiB [=================   ] 82% 0.5s\u001b[0K\u001b[1G70 MiB [=================   ] 83% 0.5s\u001b[0K\u001b[1G70 MiB [=================   ] 84% 0.4s\u001b[0K\u001b[1G70 MiB [=================   ] 85% 0.4s\u001b[0K\u001b[1G70 MiB [=================   ] 86% 0.4s\u001b[0K\u001b[1G70 MiB [=================   ] 87% 0.4s\u001b[0K\u001b[1G70 MiB [==================  ] 88% 0.3s\u001b[0K\u001b[1G70 MiB [==================  ] 89% 0.3s\u001b[0K\u001b[1G70 MiB [==================  ] 91% 0.3s\u001b[0K\u001b[1G70 MiB [==================  ] 91% 0.2s\u001b[0K\u001b[1G70 MiB [==================  ] 92% 0.2s\u001b[0K\u001b[1G70 MiB [=================== ] 93% 0.2s\u001b[0K\u001b[1G70 MiB [=================== ] 94% 0.2s\u001b[0K\u001b[1G70 MiB [=================== ] 94% 0.1s\u001b[0K\u001b[1G70 MiB [=================== ] 95% 0.1s\u001b[0K\u001b[1G70 MiB [=================== ] 96% 0.1s\u001b[0K\u001b[1G70 MiB [=================== ] 97% 0.1s\u001b[0K\u001b[1G70 MiB [====================] 97% 0.1s\u001b[0K\u001b[1G70 MiB [====================] 98% 0.0s\u001b[0K\u001b[1G70 MiB [====================] 99% 0.0s\u001b[0K\u001b[1G70 MiB [====================] 100% 0.0s\u001b[0K\n",
      "Webkit 26.0 (playwright build v2203) downloaded to /Users/benjaminlevine/Library/Caches/ms-playwright/webkit-2203\n"
     ]
    }
   ],
   "source": [
    "!pip -q install playwright\n",
    "# Try one of these (uncomment one):\n",
    "!playwright install\n",
    "# !python -m playwright install"
   ]
  },
  {
   "cell_type": "code",
   "execution_count": 4,
   "id": "c935152e-b817-40ff-874b-dd57561164fd",
   "metadata": {},
   "outputs": [],
   "source": [
    "!python -m playwright install-deps"
   ]
  },
  {
   "cell_type": "code",
   "execution_count": 5,
   "id": "3605b575-1fc3-4768-b4ef-be21bd4319be",
   "metadata": {},
   "outputs": [
    {
     "name": "stdout",
     "output_type": "stream",
     "text": [
      "✅ Playwright is installed and import worked.\n"
     ]
    }
   ],
   "source": [
    "try:\n",
    "    from playwright.sync_api import sync_playwright\n",
    "    print(\"✅ Playwright is installed and import worked.\")\n",
    "except Exception as e:\n",
    "    print(\"❌ Playwright import failed:\", e)\n",
    "    print(\"If you're in a restricted environment, you may need to run this on your local computer.\")"
   ]
  },
  {
   "cell_type": "code",
   "execution_count": 7,
   "id": "e358c539-5935-4a2c-b7d7-1c8e92edab09",
   "metadata": {},
   "outputs": [
    {
     "name": "stdout",
     "output_type": "stream",
     "text": [
      "✅ Screenshot saved to screenshot2.png\n"
     ]
    }
   ],
   "source": [
    "# Uses Playwright's async API so we can await browser actions (needed in Colab/Jupyter)\n",
    "from playwright.async_api import async_playwright\n",
    "\n",
    "# Define an asynchronous function that saves a screenshot of a web page\n",
    "async def screenshot_page(url: str, out_path: str = \"screenshot.png\"):   # url to visit; output filename defaults to \"screenshot.png\"\n",
    "    async with async_playwright() as p:                                  # start Playwright and clean it up automatically when done\n",
    "        browser = await p.chromium.launch(                               # launch a headless Chromium browser\n",
    "            args=[\"--no-sandbox\", \"--disable-dev-shm-usage\"]             # flags that make Chromium stable inside Colab containers\n",
    "        )\n",
    "        page = await browser.new_page()                                  # open a new browser tab/page\n",
    "        await page.goto(url)                                             # navigate the tab to the requested URL\n",
    "        await page.screenshot(path=out_path, full_page=True)             # take a full-page screenshot and save it to the given path\n",
    "        await browser.close()                                            # close the browser to free resources\n",
    "    print(f\"✅ Screenshot saved to {out_path}\")                           # let the user know where the file was saved\n",
    "\n",
    "# Colab supports top-level 'await', so we can call the async function directly here\n",
    "await screenshot_page(\"https://google.com\", \"screenshot2.png\")            # run the function: visit Google and save screenshot.png"
   ]
  },
  {
   "cell_type": "code",
   "execution_count": null,
   "id": "584fb2c6-a442-4172-8fd8-508bcd9f4795",
   "metadata": {},
   "outputs": [],
   "source": [
    "import re\n",
    "from time import sleep\n",
    "from playwright.async_api import async_playwright\n",
    "\n",
    "def _safe_filename(title: str) -> str:\n",
    "    safe = re.sub(r\"[^\\w\\s-]\", \"\", title).strip().replace(\" \", \"_\")\n",
    "    return safe or \"page\"\n",
    "\n",
    "async def save_page_text_async(url: str, selector: str = \"body\"):\n",
    "    async with async_playwright() as p:\n",
    "        # Colab-friendly launch flags\n",
    "        browser = await p.chromium.launch(args=[\"--no-sandbox\", \"--disable-dev-shm-usage\"])\n",
    "        page = await browser.new_page()\n",
    "        await page.goto(url)\n",
    "        sleep(5)\n",
    "        title = await page.title()\n",
    "        el = await page.query_selector(selector)\n",
    "        text = await el.inner_text() if el else \"No content found for selector.\"\n",
    "        filename = _safe_filename(title) + \".txt\"\n",
    "        with open(filename, \"w\", encoding=\"utf-8\") as f:\n",
    "            f.write(f\"URL: {url}\\nTitle: {title}\\n\\n{text}\")\n",
    "        await browser.close()\n",
    "    print(f\"✅ Saved text to {filename}\")\n",
    "\n",
    "# Colab supports top-level await:\n",
    "await save_page_text_async(\"https://bhphotovideo.com\", selector=\"body\")\n"
   ]
  },
  {
   "cell_type": "code",
   "execution_count": null,
   "id": "b5e90f33-3d27-4820-baed-cda13cf3f81e",
   "metadata": {},
   "outputs": [],
   "source": []
  },
  {
   "cell_type": "code",
   "execution_count": null,
   "id": "2719d2a8-9aa9-4d8f-8d31-b3af84852c11",
   "metadata": {},
   "outputs": [],
   "source": []
  }
 ],
 "metadata": {
  "kernelspec": {
   "display_name": "Python [conda env:base] *",
   "language": "python",
   "name": "conda-base-py"
  },
  "language_info": {
   "codemirror_mode": {
    "name": "ipython",
    "version": 3
   },
   "file_extension": ".py",
   "mimetype": "text/x-python",
   "name": "python",
   "nbconvert_exporter": "python",
   "pygments_lexer": "ipython3",
   "version": "3.13.5"
  }
 },
 "nbformat": 4,
 "nbformat_minor": 5
}
