{
 "cells": [
  {
   "cell_type": "code",
   "execution_count": 79,
   "id": "74c0d15a-3baa-43a1-97d6-d10e783db310",
   "metadata": {},
   "outputs": [],
   "source": [
    "#!pip install --upgrade pip\n",
    "#!pip install selenium webdriver-manager\n",
    "#!pip install requests beautifulsoup4 pandas\n",
    "#!pip install matplotlib"
   ]
  },
  {
   "cell_type": "markdown",
   "id": "3d1fe83f-ecff-44a9-8ece-0d256e4b8d7b",
   "metadata": {},
   "source": [
    "I put all of my imports in one code block - this was much cleaner and simpler than scattering throughout the code, introducing them as needed. I am using Selenium to webscrape, beautifulSoup to parse data, and Plotly to create visual representations. I also have constants **totalPages** and **rangePages** to simplify the multiple places in my code where I need the number of product pages on the website."
   ]
  },
  {
   "cell_type": "code",
   "execution_count": 224,
   "id": "fab1ec68-ba3a-4bfb-a4f7-fa41315344fd",
   "metadata": {},
   "outputs": [],
   "source": [
    "from selenium import webdriver\n",
    "from selenium.webdriver.chrome.service import Service as ChromeService\n",
    "from webdriver_manager.chrome import ChromeDriverManager   # installs driver automatically\n",
    "from selenium.webdriver.common.by import By\n",
    "from selenium.webdriver.support.ui import WebDriverWait\n",
    "from selenium.webdriver.support import expected_conditions as EC\n",
    "import time\n",
    "import os\n",
    "import requests\n",
    "from bs4 import BeautifulSoup\n",
    "import pandas as pd\n",
    "import plotly.graph_objects as go\n",
    "import re\n",
    "\n",
    "\n",
    "\n",
    "totalPages = 46 #46 pages total\n",
    "rangePages = totalPages+1"
   ]
  },
  {
   "cell_type": "markdown",
   "id": "f21c6c5f-1ad5-472b-a729-a733fc1ed0a9",
   "metadata": {},
   "source": [
    "My code loops through each page on the website using Selenium. Each loop, I configure a Chrome browser to run without JavaScript. When JavaScript was enabled, all of the product images tried to load. Upon loading, the entire website would turn blank, and all HTML would disappear. Disabling this allowed me to access the data because I do not need images for my project. \n",
    "\n",
    "After creating the driver, I open the URL to that specific product page. I get the HTML from the website and write it to a file with that page number in the name. Then, rinse and repeat."
   ]
  },
  {
   "cell_type": "code",
   "execution_count": 81,
   "id": "432eff38-d497-4f0b-9abf-bbcabc956350",
   "metadata": {},
   "outputs": [
    {
     "name": "stdout",
     "output_type": "stream",
     "text": [
      "Saved HTML to page_source.txt\n",
      "Saved HTML to page_source.txt\n",
      "Saved HTML to page_source.txt\n",
      "Saved HTML to page_source.txt\n",
      "Saved HTML to page_source.txt\n",
      "Saved HTML to page_source.txt\n",
      "Saved HTML to page_source.txt\n",
      "Saved HTML to page_source.txt\n",
      "Saved HTML to page_source.txt\n",
      "Saved HTML to page_source.txt\n",
      "Saved HTML to page_source.txt\n",
      "Saved HTML to page_source.txt\n",
      "Saved HTML to page_source.txt\n",
      "Saved HTML to page_source.txt\n",
      "Saved HTML to page_source.txt\n",
      "Saved HTML to page_source.txt\n",
      "Saved HTML to page_source.txt\n",
      "Saved HTML to page_source.txt\n",
      "Saved HTML to page_source.txt\n",
      "Saved HTML to page_source.txt\n",
      "Saved HTML to page_source.txt\n",
      "Saved HTML to page_source.txt\n",
      "Saved HTML to page_source.txt\n",
      "Saved HTML to page_source.txt\n",
      "Saved HTML to page_source.txt\n",
      "Saved HTML to page_source.txt\n",
      "Saved HTML to page_source.txt\n",
      "Saved HTML to page_source.txt\n",
      "Saved HTML to page_source.txt\n",
      "Saved HTML to page_source.txt\n",
      "Saved HTML to page_source.txt\n",
      "Saved HTML to page_source.txt\n",
      "Saved HTML to page_source.txt\n",
      "Saved HTML to page_source.txt\n",
      "Saved HTML to page_source.txt\n",
      "Saved HTML to page_source.txt\n",
      "Saved HTML to page_source.txt\n",
      "Saved HTML to page_source.txt\n",
      "Saved HTML to page_source.txt\n",
      "Saved HTML to page_source.txt\n",
      "Saved HTML to page_source.txt\n",
      "Saved HTML to page_source.txt\n",
      "Saved HTML to page_source.txt\n",
      "Saved HTML to page_source.txt\n",
      "Saved HTML to page_source.txt\n",
      "Saved HTML to page_source.txt\n"
     ]
    }
   ],
   "source": [
    "for count in range(1, rangePages): \n",
    "\n",
    "    config = webdriver.ChromeOptions()\n",
    "    config.add_argument(\"--start-maximized\")\n",
    "    \n",
    "    service = ChromeService(ChromeDriverManager().install())\n",
    "    driver = webdriver.Chrome(service=service, options=config)\n",
    "    driver.execute_cdp_cmd(\"Emulation.setScriptExecutionDisabled\", {\"value\": True})\n",
    "\n",
    "    url = f\"https://www.bhphotovideo.com/c/buy/Digital-Cameras/ci/9811/N/4288586282/pn/{count}\"\n",
    "    driver.get(url)\n",
    "    html_source = driver.page_source   # grab the rendered HTML\n",
    "    with open(f\"html_p_{count}.txt\", \"w\", encoding=\"utf-8\") as f:\n",
    "        f.write(html_source)\n",
    "    print(f\"Saved HTML to p_{count}.txt\")\n",
    "    driver.quit()"
   ]
  },
  {
   "cell_type": "markdown",
   "id": "9738f267-2b62-45f9-8a94-c9a078490ede",
   "metadata": {},
   "source": [
    "In my first iteration of this project, I had one dictionary: **cameras**. I still have this dictionary for a master compilation of data, but I now use the dictionaries **nikons** and **canons**. In this block, I open each txt file that contains HTML, one at a time. This code is intentionally in a different block from before for multiple reasons. First, readability - it's cleaner and easier to debug. More importantly, however, I did not want to get 46 pages of data from B&H Photo each time I wanted to analyze the code. Thus, I am able to get and analyze my data separately. \n",
    "\n",
    "I use beautifulSoup to parse the HTML from the file. I spent a significant portion of my time looking at the HTML structure of B&H Photo's website to understand what classes I need to ask beautifulSoup for. I began by getting every camera (product) on the page and looping through the product.\n",
    "\n",
    "Occasionally, a product would be missing a piece of information, and that throws an error. I placed my data parsing within a try-catch statement. If any error is thrown, the product is not included in the final dataset. The first value I found was the camera name. The name contains the company, so here I filtered away any cameras that were not Canon or Nikon. If the camera is from one of the two companies in this project, I moved on to get the remaining data. I got the quantity of reviews, which was in the format \"103 reviews\". I used regex to grab the numerical quantity of the reviews without the word 'reviews'. Rather than having numerical ratings, the ratings are quantized on a scale of 0-5 by a 0.5 step. This is symbolized by the number of full and half-star icons on the page. I made a list of each of these and calculated the rating based on the list lengths. I calculated a weighted score based on rating times the number of reviews. Then, I gathered the price, which had two text boxes: dollars and cents.\n",
    "\n",
    "I added each camera to the **cameras** dictionary, and then added the camera to the appropriate dictionary, **nikons** or **canons**. I only included cameras with ratings greater than 4 (ie a 4.5 or 5.0 on BHPhoto's scale). I made this choice because there were only a few entries 4.0 or below, and those outliers cluttered the graph more than they helped it. "
   ]
  },
  {
   "cell_type": "code",
   "execution_count": 233,
   "id": "05369b20-327a-4135-b844-baba3e7d4b54",
   "metadata": {},
   "outputs": [],
   "source": [
    "cameras = {}\n",
    "nikons = {}\n",
    "canons = {}\n",
    "for file in range(1, rangePages):\n",
    "    path = f\"html_p_{file}.txt\"\n",
    "    with open(path, 'r', encoding='utf-8') as file:\n",
    "        html_content = file.read()\n",
    "        soup = BeautifulSoup(html_content, 'html.parser') #extracted text\n",
    "\n",
    "        allProducts = soup.find_all(class_ =\"product_UCJ1nUFwhh\")\n",
    "\n",
    "        for product in allProducts:\n",
    "            #print()\n",
    "            #print()\n",
    "            #print(product)\n",
    "            try:\n",
    "                name = product.find(class_=\"title_UCJ1nUFwhh\").find(\"span\").get_text(strip=True)\n",
    "                nameLower = name.lower()\n",
    "                #print(nameLower)\n",
    "                if not \"nikon\" in nameLower and not \"canon\" in nameLower:\n",
    "                    continue\n",
    "                reviewQtyStr = product.find(class_=\"reviews_bNk7GOVjfB\").get_text(strip=True)\n",
    "                #reviewQtyInt = int(reviewQtyStr.split()[0])\n",
    "                reviewQtyInt = int(re.search(r'(\\d+)', reviewQtyStr).group(1))\n",
    "                \n",
    "                fullStars = product.find_all(\"use\", href=\"#StarIcon\")\n",
    "                halfStars = product.find_all(\"use\", href=\"#StarHalfIcon\")\n",
    "                rating = len(fullStars) + 0.5*len(halfStars)\n",
    "                weightedScore = rating*reviewQtyInt\n",
    "    \n",
    "                priceDollar = product.find(class_=\"container_g3a3KcfvMV\").find(\"span\")\n",
    "                priceDollar = int(priceDollar.get_text(strip=True).strip(\"$\").replace(\",\", \"\"))\n",
    "    \n",
    "                priceCent = int(product.find(class_=\"sup_g3a3KcfvMV\").get_text(strip=True))\n",
    "           \n",
    "    \n",
    "                price = priceDollar + priceCent / 100\n",
    "                \n",
    "        \n",
    "               \n",
    "                company = \"nikon\" if \"nikon\" in nameLower else \"canon\"\n",
    "                    #print(\"true\")\n",
    "                cameras[name] = (company, reviewQtyInt, rating, weightedScore, price)\n",
    "\n",
    "                if rating > 4:\n",
    "                    \n",
    "                    if company == \"nikon\":\n",
    "                        nikons[name] = (company, reviewQtyInt, rating, weightedScore, price)\n",
    "                    else:\n",
    "                        canons[name] = (company, reviewQtyInt, rating, weightedScore, price)\n",
    "\n",
    "            except AttributeError:\n",
    "                continue\n",
    "            except ValueError:\n",
    "                continue\n",
    "\n",
    "#print(cameras)\n",
    "\n",
    "    \n",
    "    \n",
    "    "
   ]
  },
  {
   "cell_type": "markdown",
   "id": "f92e4956-9507-49ba-815b-645253d7087b",
   "metadata": {},
   "source": [
    "I created two Pandas dataframes from my **nikons** and **canons** dictionaries. I passed in the dictionary for data; *orient='index'* converts the keys to indexes; *columns=['company', 'reviewQtyInt', 'rating', 'weightedScore', 'price']* sets the data and names of columns; *reset_index().rename(columns={'index': 'product'}* converts my indices into a column to use as data and renames it 'product'. The new indices are the standard numerical integers rather than names.\n",
    "\n",
    "I created a new 3d plot without the default legend because I am using my own custom color legend. I then set up my axes with names and scales for some. I created custom color bar scales to differentiate between the two datasets on the same graph visually. At last, I add the data to the 3d scatter plot and customize the shapes and appearance of points. Last, but not least, I display the graph."
   ]
  },
  {
   "cell_type": "code",
   "execution_count": 237,
   "id": "e4f9dc6c-02ef-4d71-871a-6eddf938c353",
   "metadata": {},
   "outputs": [
    {
     "data": {
      "application/vnd.plotly.v1+json": {
       "config": {
        "plotlyServerURL": "https://plot.ly"
       },
       "data": [
        {
         "marker": {
          "color": [
           1048.5,
           1827,
           585,
           1030.5,
           522,
           1399.5,
           283.5,
           1685,
           4149,
           1048.5,
           607.5,
           1290,
           1660,
           49.5,
           195,
           99,
           1165.5,
           4.5,
           1309.5,
           400.5,
           409.5,
           415,
           427.5,
           990,
           571.5,
           499.5,
           540,
           432,
           936,
           195,
           499.5,
           166.5,
           225,
           1071,
           195,
           1225,
           1620,
           415,
           49.5,
           3564,
           981,
           270,
           612,
           486,
           486,
           1080,
           486,
           774,
           3528,
           270,
           4610,
           427.5,
           571.5,
           985.5,
           845,
           405,
           1635,
           3528,
           95,
           235,
           405,
           770,
           415,
           420,
           420,
           504,
           423,
           139.5,
           770,
           415,
           981,
           1620,
           418.5,
           144,
           270,
           418.5,
           855,
           2235,
           990,
           1620,
           1980,
           1980,
           1980,
           1780,
           1980,
           1780,
           415,
           1728,
           1728,
           1579.5,
           1579.5,
           415,
           1579.5,
           1579.5,
           855,
           415,
           855,
           1620,
           1620,
           3528,
           3528,
           418.5,
           418.5
          ],
          "colorbar": {
           "title": {
            "text": "Canon Weighted Score"
           },
           "x": 1.2
          },
          "colorscale": [
           [
            0,
            "yellow"
           ],
           [
            1,
            "green"
           ]
          ],
          "opacity": 0.8,
          "size": 6
         },
         "mode": "markers",
         "name": "Canon",
         "type": "scatter3d",
         "x": [
          4.5,
          4.5,
          4.5,
          4.5,
          4.5,
          4.5,
          4.5,
          5,
          4.5,
          4.5,
          4.5,
          5,
          5,
          4.5,
          5,
          4.5,
          4.5,
          4.5,
          4.5,
          4.5,
          4.5,
          5,
          4.5,
          4.5,
          4.5,
          4.5,
          4.5,
          4.5,
          4.5,
          5,
          4.5,
          4.5,
          5,
          4.5,
          5,
          5,
          5,
          5,
          4.5,
          4.5,
          4.5,
          5,
          4.5,
          4.5,
          4.5,
          4.5,
          4.5,
          4.5,
          4.5,
          5,
          5,
          4.5,
          4.5,
          4.5,
          5,
          4.5,
          5,
          4.5,
          5,
          5,
          4.5,
          5,
          5,
          5,
          5,
          4.5,
          4.5,
          4.5,
          5,
          5,
          4.5,
          5,
          4.5,
          4.5,
          5,
          4.5,
          4.5,
          5,
          4.5,
          5,
          4.5,
          4.5,
          4.5,
          5,
          4.5,
          5,
          5,
          4.5,
          4.5,
          4.5,
          4.5,
          5,
          4.5,
          4.5,
          4.5,
          5,
          4.5,
          5,
          5,
          4.5,
          4.5,
          4.5,
          4.5
         ],
         "y": [
          4099,
          2099,
          699,
          699,
          849,
          999,
          629,
          3349,
          2999,
          579,
          1449,
          1399,
          2399,
          669,
          779,
          979,
          1449,
          2199,
          1199,
          1099,
          729,
          969.89,
          1449,
          5349,
          749,
          3399,
          1649,
          999,
          1199,
          866.94,
          1149,
          6799,
          879,
          899,
          741.1,
          1698,
          2632.93,
          1378.89,
          899,
          4249,
          2100.94,
          1586.89,
          4399,
          649,
          1786.89,
          1949,
          1586.89,
          2299,
          3230.93,
          1286.89,
          3399,
          4749,
          749,
          1600.94,
          2999,
          849,
          2199,
          4480.93,
          6499,
          559,
          729,
          807.95,
          849.89,
          1049,
          1079,
          1899,
          5299,
          199,
          688,
          1088,
          1569,
          2219,
          6399,
          199,
          1119,
          1349,
          1398,
          1499,
          2049,
          2508,
          549.99,
          549.99,
          565.97,
          565.97,
          654.5,
          654.5,
          849,
          879.99,
          879.99,
          895.97,
          895.97,
          969.89,
          1014.95,
          1014.95,
          1098,
          1258,
          1462.95,
          2666,
          2808,
          3852.98,
          4273.95,
          5999,
          7283.95
         ],
         "z": [
          233,
          406,
          130,
          229,
          116,
          311,
          63,
          337,
          922,
          233,
          135,
          258,
          332,
          11,
          39,
          22,
          259,
          1,
          291,
          89,
          91,
          83,
          95,
          220,
          127,
          111,
          120,
          96,
          208,
          39,
          111,
          37,
          45,
          238,
          39,
          245,
          324,
          83,
          11,
          792,
          218,
          54,
          136,
          108,
          108,
          240,
          108,
          172,
          784,
          54,
          922,
          95,
          127,
          219,
          169,
          90,
          327,
          784,
          19,
          47,
          90,
          154,
          83,
          84,
          84,
          112,
          94,
          31,
          154,
          83,
          218,
          324,
          93,
          32,
          54,
          93,
          190,
          447,
          220,
          324,
          440,
          440,
          440,
          356,
          440,
          356,
          83,
          384,
          384,
          351,
          351,
          83,
          351,
          351,
          190,
          83,
          190,
          324,
          324,
          784,
          784,
          93,
          93
         ]
        },
        {
         "marker": {
          "color": [
           765,
           1700,
           922.5,
           85.5,
           185,
           3745,
           765,
           180,
           285,
           652.5,
           531,
           886.5,
           765,
           1700,
           1363.5,
           1435.5,
           1363.5,
           886.5,
           285,
           652.5,
           922.5,
           765,
           765,
           765,
           1700,
           1700,
           531,
           531,
           285,
           657,
           922.5,
           657,
           285,
           922.5,
           1700,
           1700,
           409.5,
           765,
           765,
           185,
           1363.5,
           285,
           769.5,
           285,
           409.5,
           652.5,
           652.5,
           765,
           770,
           180,
           285,
           285,
           185,
           364.5,
           364.5,
           285,
           285,
           886.5,
           1700,
           1435.5,
           1435.5,
           295,
           180,
           285,
           769.5,
           886.5,
           922.5,
           922.5,
           922.5,
           765,
           652.5,
           1700,
           1700,
           1700,
           1435.5,
           1700,
           364.5,
           769.5,
           364.5,
           364.5,
           364.5,
           285,
           769.5,
           652.5,
           922.5,
           765,
           657,
           765,
           1700,
           1700,
           148.5,
           180,
           364.5,
           364.5,
           364.5,
           364.5,
           364.5,
           364.5,
           769.5,
           769.5,
           3415,
           2865,
           769.5,
           657,
           652.5,
           886.5,
           657,
           657,
           886.5,
           657,
           886.5,
           765,
           657,
           657,
           770,
           1700,
           1700,
           1435.5,
           180,
           180,
           769.5,
           180,
           180,
           364.5,
           100,
           886.5,
           180,
           285,
           285,
           285,
           886.5,
           886.5,
           922.5,
           657,
           600,
           657,
           657,
           657,
           657,
           657,
           922.5,
           657,
           922.5,
           652.5,
           657,
           886.5,
           886.5,
           765,
           922.5,
           657,
           922.5,
           922.5,
           1700,
           1700,
           765,
           1700,
           770,
           1700,
           1700,
           1435.5,
           1435.5
          ],
          "colorbar": {
           "title": {
            "text": "Nikon # of Reviews"
           },
           "x": 1.8
          },
          "colorscale": [
           [
            0,
            "orange"
           ],
           [
            1,
            "blue"
           ]
          ],
          "opacity": 0.8,
          "size": 6
         },
         "mode": "markers",
         "name": "Nikon",
         "type": "scatter3d",
         "x": [
          5,
          5,
          4.5,
          4.5,
          5,
          5,
          5,
          5,
          5,
          4.5,
          4.5,
          4.5,
          5,
          5,
          4.5,
          4.5,
          4.5,
          4.5,
          5,
          4.5,
          4.5,
          5,
          5,
          5,
          5,
          5,
          4.5,
          4.5,
          5,
          4.5,
          4.5,
          4.5,
          5,
          4.5,
          5,
          5,
          4.5,
          5,
          5,
          5,
          4.5,
          5,
          4.5,
          5,
          4.5,
          4.5,
          4.5,
          5,
          5,
          5,
          5,
          5,
          5,
          4.5,
          4.5,
          5,
          5,
          4.5,
          5,
          4.5,
          4.5,
          5,
          5,
          5,
          4.5,
          4.5,
          4.5,
          4.5,
          4.5,
          5,
          4.5,
          5,
          5,
          5,
          4.5,
          5,
          4.5,
          4.5,
          4.5,
          4.5,
          4.5,
          5,
          4.5,
          4.5,
          4.5,
          5,
          4.5,
          5,
          5,
          5,
          4.5,
          5,
          4.5,
          4.5,
          4.5,
          4.5,
          4.5,
          4.5,
          4.5,
          4.5,
          5,
          5,
          4.5,
          4.5,
          4.5,
          4.5,
          4.5,
          4.5,
          4.5,
          4.5,
          4.5,
          5,
          4.5,
          4.5,
          5,
          5,
          5,
          4.5,
          5,
          5,
          4.5,
          5,
          5,
          4.5,
          5,
          4.5,
          5,
          5,
          5,
          5,
          4.5,
          4.5,
          4.5,
          4.5,
          5,
          4.5,
          4.5,
          4.5,
          4.5,
          4.5,
          4.5,
          4.5,
          4.5,
          4.5,
          4.5,
          4.5,
          4.5,
          5,
          4.5,
          4.5,
          4.5,
          4.5,
          5,
          5,
          5,
          5,
          5,
          5,
          5,
          4.5,
          4.5
         ],
         "y": [
          2196.95,
          3796.95,
          1996.95,
          1146.95,
          1696.95,
          1996.95,
          3243.9,
          796.95,
          1006.95,
          1996.95,
          846.95,
          1546.95,
          2196.95,
          3796.95,
          796.95,
          5396.95,
          1096.95,
          1546.95,
          1526.84,
          2436.95,
          3043.9,
          3413.84,
          2796.95,
          3243.9,
          3939.39,
          4839.39,
          869.5,
          951.95,
          1683.9,
          1996.95,
          1996.95,
          3043.9,
          1276.84,
          3043.9,
          4093.9,
          4093.9,
          2046.95,
          2366.89,
          2493.9,
          2496.95,
          1043.9,
          1136.84,
          1146.95,
          1396.95,
          1546.95,
          2096.95,
          2236.95,
          2493.9,
          2966.89,
          946.95,
          1006.95,
          1813.79,
          1996.95,
          956.95,
          1096.95,
          1146.95,
          1396.95,
          2593.9,
          4236.34,
          5396.95,
          5693.9,
          799,
          1046.95,
          1146.95,
          1446.95,
          2146.95,
          2293.9,
          2383.84,
          2596.95,
          2663.84,
          2796.95,
          4276.39,
          4573.34,
          4696.95,
          5698.44,
          6136.34,
          1096.95,
          1146.95,
          1196.95,
          1196.95,
          1196.95,
          1703.9,
          1946.95,
          1996.95,
          2596.95,
          2693.9,
          3043.9,
          4563.84,
          5176.39,
          5993.9,
          6496.95,
          706.95,
          1096.95,
          1096.95,
          1196.95,
          1196.95,
          1196.95,
          1253.9,
          1443.9,
          1446.95,
          1599.95,
          1699.95,
          1946.95,
          2096.95,
          2096.95,
          2146.95,
          2423.9,
          2513.84,
          2593.9,
          2596.95,
          2783.84,
          2885.3,
          3143.9,
          3143.9,
          4393.9,
          4696.95,
          5993.9,
          7895.39,
          706.95,
          796.95,
          799,
          946.95,
          946.95,
          956.95,
          999,
          999.95,
          1046.95,
          1273.9,
          1293.9,
          1343.9,
          1843.9,
          2043.9,
          2086.89,
          2096.95,
          2199,
          2293.9,
          2323.9,
          2413.84,
          2423.9,
          2423.9,
          2493.9,
          2493.9,
          2583.84,
          2596.95,
          2683.84,
          2693.9,
          2693.9,
          2796.95,
          3133.84,
          3143.9,
          4193.9,
          4193.9,
          4293.9,
          4293.9,
          4393.9,
          4785.3,
          5082.25,
          5993.9,
          5993.9,
          5995.39,
          7593.9
         ],
         "z": [
          153,
          340,
          205,
          19,
          37,
          749,
          153,
          36,
          57,
          145,
          118,
          197,
          153,
          340,
          303,
          319,
          303,
          197,
          57,
          145,
          205,
          153,
          153,
          153,
          340,
          340,
          118,
          118,
          57,
          146,
          205,
          146,
          57,
          205,
          340,
          340,
          91,
          153,
          153,
          37,
          303,
          57,
          171,
          57,
          91,
          145,
          145,
          153,
          154,
          36,
          57,
          57,
          37,
          81,
          81,
          57,
          57,
          197,
          340,
          319,
          319,
          59,
          36,
          57,
          171,
          197,
          205,
          205,
          205,
          153,
          145,
          340,
          340,
          340,
          319,
          340,
          81,
          171,
          81,
          81,
          81,
          57,
          171,
          145,
          205,
          153,
          146,
          153,
          340,
          340,
          33,
          36,
          81,
          81,
          81,
          81,
          81,
          81,
          171,
          171,
          683,
          573,
          171,
          146,
          145,
          197,
          146,
          146,
          197,
          146,
          197,
          153,
          146,
          146,
          154,
          340,
          340,
          319,
          36,
          36,
          171,
          36,
          36,
          81,
          20,
          197,
          36,
          57,
          57,
          57,
          197,
          197,
          205,
          146,
          120,
          146,
          146,
          146,
          146,
          146,
          205,
          146,
          205,
          145,
          146,
          197,
          197,
          153,
          205,
          146,
          205,
          205,
          340,
          340,
          153,
          340,
          154,
          340,
          340,
          319,
          319
         ]
        }
       ],
       "layout": {
        "scene": {
         "xaxis": {
          "ticktext": [
           "4.5",
           "5.0"
          ],
          "tickvals": [
           4.5,
           5
          ],
          "title": {
           "text": "Rating (Stars)"
          }
         },
         "yaxis": {
          "ticktext": [
           "0",
           "2.5k",
           "5k",
           "7.5k",
           "10k"
          ],
          "tickvals": [
           0,
           2500,
           5000,
           7500,
           10000
          ],
          "title": {
           "text": "Price ($)"
          }
         },
         "zaxis": {
          "ticktext": [
           "0",
           "250",
           "500",
           "750",
           "1000"
          ],
          "tickvals": [
           0,
           250,
           500,
           750,
           1000
          ],
          "title": {
           "text": "# of Reviews"
          }
         }
        },
        "showlegend": false,
        "template": {
         "data": {
          "bar": [
           {
            "error_x": {
             "color": "#2a3f5f"
            },
            "error_y": {
             "color": "#2a3f5f"
            },
            "marker": {
             "line": {
              "color": "#E5ECF6",
              "width": 0.5
             },
             "pattern": {
              "fillmode": "overlay",
              "size": 10,
              "solidity": 0.2
             }
            },
            "type": "bar"
           }
          ],
          "barpolar": [
           {
            "marker": {
             "line": {
              "color": "#E5ECF6",
              "width": 0.5
             },
             "pattern": {
              "fillmode": "overlay",
              "size": 10,
              "solidity": 0.2
             }
            },
            "type": "barpolar"
           }
          ],
          "carpet": [
           {
            "aaxis": {
             "endlinecolor": "#2a3f5f",
             "gridcolor": "white",
             "linecolor": "white",
             "minorgridcolor": "white",
             "startlinecolor": "#2a3f5f"
            },
            "baxis": {
             "endlinecolor": "#2a3f5f",
             "gridcolor": "white",
             "linecolor": "white",
             "minorgridcolor": "white",
             "startlinecolor": "#2a3f5f"
            },
            "type": "carpet"
           }
          ],
          "choropleth": [
           {
            "colorbar": {
             "outlinewidth": 0,
             "ticks": ""
            },
            "type": "choropleth"
           }
          ],
          "contour": [
           {
            "colorbar": {
             "outlinewidth": 0,
             "ticks": ""
            },
            "colorscale": [
             [
              0,
              "#0d0887"
             ],
             [
              0.1111111111111111,
              "#46039f"
             ],
             [
              0.2222222222222222,
              "#7201a8"
             ],
             [
              0.3333333333333333,
              "#9c179e"
             ],
             [
              0.4444444444444444,
              "#bd3786"
             ],
             [
              0.5555555555555556,
              "#d8576b"
             ],
             [
              0.6666666666666666,
              "#ed7953"
             ],
             [
              0.7777777777777778,
              "#fb9f3a"
             ],
             [
              0.8888888888888888,
              "#fdca26"
             ],
             [
              1,
              "#f0f921"
             ]
            ],
            "type": "contour"
           }
          ],
          "contourcarpet": [
           {
            "colorbar": {
             "outlinewidth": 0,
             "ticks": ""
            },
            "type": "contourcarpet"
           }
          ],
          "heatmap": [
           {
            "colorbar": {
             "outlinewidth": 0,
             "ticks": ""
            },
            "colorscale": [
             [
              0,
              "#0d0887"
             ],
             [
              0.1111111111111111,
              "#46039f"
             ],
             [
              0.2222222222222222,
              "#7201a8"
             ],
             [
              0.3333333333333333,
              "#9c179e"
             ],
             [
              0.4444444444444444,
              "#bd3786"
             ],
             [
              0.5555555555555556,
              "#d8576b"
             ],
             [
              0.6666666666666666,
              "#ed7953"
             ],
             [
              0.7777777777777778,
              "#fb9f3a"
             ],
             [
              0.8888888888888888,
              "#fdca26"
             ],
             [
              1,
              "#f0f921"
             ]
            ],
            "type": "heatmap"
           }
          ],
          "heatmapgl": [
           {
            "colorbar": {
             "outlinewidth": 0,
             "ticks": ""
            },
            "colorscale": [
             [
              0,
              "#0d0887"
             ],
             [
              0.1111111111111111,
              "#46039f"
             ],
             [
              0.2222222222222222,
              "#7201a8"
             ],
             [
              0.3333333333333333,
              "#9c179e"
             ],
             [
              0.4444444444444444,
              "#bd3786"
             ],
             [
              0.5555555555555556,
              "#d8576b"
             ],
             [
              0.6666666666666666,
              "#ed7953"
             ],
             [
              0.7777777777777778,
              "#fb9f3a"
             ],
             [
              0.8888888888888888,
              "#fdca26"
             ],
             [
              1,
              "#f0f921"
             ]
            ],
            "type": "heatmapgl"
           }
          ],
          "histogram": [
           {
            "marker": {
             "pattern": {
              "fillmode": "overlay",
              "size": 10,
              "solidity": 0.2
             }
            },
            "type": "histogram"
           }
          ],
          "histogram2d": [
           {
            "colorbar": {
             "outlinewidth": 0,
             "ticks": ""
            },
            "colorscale": [
             [
              0,
              "#0d0887"
             ],
             [
              0.1111111111111111,
              "#46039f"
             ],
             [
              0.2222222222222222,
              "#7201a8"
             ],
             [
              0.3333333333333333,
              "#9c179e"
             ],
             [
              0.4444444444444444,
              "#bd3786"
             ],
             [
              0.5555555555555556,
              "#d8576b"
             ],
             [
              0.6666666666666666,
              "#ed7953"
             ],
             [
              0.7777777777777778,
              "#fb9f3a"
             ],
             [
              0.8888888888888888,
              "#fdca26"
             ],
             [
              1,
              "#f0f921"
             ]
            ],
            "type": "histogram2d"
           }
          ],
          "histogram2dcontour": [
           {
            "colorbar": {
             "outlinewidth": 0,
             "ticks": ""
            },
            "colorscale": [
             [
              0,
              "#0d0887"
             ],
             [
              0.1111111111111111,
              "#46039f"
             ],
             [
              0.2222222222222222,
              "#7201a8"
             ],
             [
              0.3333333333333333,
              "#9c179e"
             ],
             [
              0.4444444444444444,
              "#bd3786"
             ],
             [
              0.5555555555555556,
              "#d8576b"
             ],
             [
              0.6666666666666666,
              "#ed7953"
             ],
             [
              0.7777777777777778,
              "#fb9f3a"
             ],
             [
              0.8888888888888888,
              "#fdca26"
             ],
             [
              1,
              "#f0f921"
             ]
            ],
            "type": "histogram2dcontour"
           }
          ],
          "mesh3d": [
           {
            "colorbar": {
             "outlinewidth": 0,
             "ticks": ""
            },
            "type": "mesh3d"
           }
          ],
          "parcoords": [
           {
            "line": {
             "colorbar": {
              "outlinewidth": 0,
              "ticks": ""
             }
            },
            "type": "parcoords"
           }
          ],
          "pie": [
           {
            "automargin": true,
            "type": "pie"
           }
          ],
          "scatter": [
           {
            "fillpattern": {
             "fillmode": "overlay",
             "size": 10,
             "solidity": 0.2
            },
            "type": "scatter"
           }
          ],
          "scatter3d": [
           {
            "line": {
             "colorbar": {
              "outlinewidth": 0,
              "ticks": ""
             }
            },
            "marker": {
             "colorbar": {
              "outlinewidth": 0,
              "ticks": ""
             }
            },
            "type": "scatter3d"
           }
          ],
          "scattercarpet": [
           {
            "marker": {
             "colorbar": {
              "outlinewidth": 0,
              "ticks": ""
             }
            },
            "type": "scattercarpet"
           }
          ],
          "scattergeo": [
           {
            "marker": {
             "colorbar": {
              "outlinewidth": 0,
              "ticks": ""
             }
            },
            "type": "scattergeo"
           }
          ],
          "scattergl": [
           {
            "marker": {
             "colorbar": {
              "outlinewidth": 0,
              "ticks": ""
             }
            },
            "type": "scattergl"
           }
          ],
          "scattermapbox": [
           {
            "marker": {
             "colorbar": {
              "outlinewidth": 0,
              "ticks": ""
             }
            },
            "type": "scattermapbox"
           }
          ],
          "scatterpolar": [
           {
            "marker": {
             "colorbar": {
              "outlinewidth": 0,
              "ticks": ""
             }
            },
            "type": "scatterpolar"
           }
          ],
          "scatterpolargl": [
           {
            "marker": {
             "colorbar": {
              "outlinewidth": 0,
              "ticks": ""
             }
            },
            "type": "scatterpolargl"
           }
          ],
          "scatterternary": [
           {
            "marker": {
             "colorbar": {
              "outlinewidth": 0,
              "ticks": ""
             }
            },
            "type": "scatterternary"
           }
          ],
          "surface": [
           {
            "colorbar": {
             "outlinewidth": 0,
             "ticks": ""
            },
            "colorscale": [
             [
              0,
              "#0d0887"
             ],
             [
              0.1111111111111111,
              "#46039f"
             ],
             [
              0.2222222222222222,
              "#7201a8"
             ],
             [
              0.3333333333333333,
              "#9c179e"
             ],
             [
              0.4444444444444444,
              "#bd3786"
             ],
             [
              0.5555555555555556,
              "#d8576b"
             ],
             [
              0.6666666666666666,
              "#ed7953"
             ],
             [
              0.7777777777777778,
              "#fb9f3a"
             ],
             [
              0.8888888888888888,
              "#fdca26"
             ],
             [
              1,
              "#f0f921"
             ]
            ],
            "type": "surface"
           }
          ],
          "table": [
           {
            "cells": {
             "fill": {
              "color": "#EBF0F8"
             },
             "line": {
              "color": "white"
             }
            },
            "header": {
             "fill": {
              "color": "#C8D4E3"
             },
             "line": {
              "color": "white"
             }
            },
            "type": "table"
           }
          ]
         },
         "layout": {
          "annotationdefaults": {
           "arrowcolor": "#2a3f5f",
           "arrowhead": 0,
           "arrowwidth": 1
          },
          "autotypenumbers": "strict",
          "coloraxis": {
           "colorbar": {
            "outlinewidth": 0,
            "ticks": ""
           }
          },
          "colorscale": {
           "diverging": [
            [
             0,
             "#8e0152"
            ],
            [
             0.1,
             "#c51b7d"
            ],
            [
             0.2,
             "#de77ae"
            ],
            [
             0.3,
             "#f1b6da"
            ],
            [
             0.4,
             "#fde0ef"
            ],
            [
             0.5,
             "#f7f7f7"
            ],
            [
             0.6,
             "#e6f5d0"
            ],
            [
             0.7,
             "#b8e186"
            ],
            [
             0.8,
             "#7fbc41"
            ],
            [
             0.9,
             "#4d9221"
            ],
            [
             1,
             "#276419"
            ]
           ],
           "sequential": [
            [
             0,
             "#0d0887"
            ],
            [
             0.1111111111111111,
             "#46039f"
            ],
            [
             0.2222222222222222,
             "#7201a8"
            ],
            [
             0.3333333333333333,
             "#9c179e"
            ],
            [
             0.4444444444444444,
             "#bd3786"
            ],
            [
             0.5555555555555556,
             "#d8576b"
            ],
            [
             0.6666666666666666,
             "#ed7953"
            ],
            [
             0.7777777777777778,
             "#fb9f3a"
            ],
            [
             0.8888888888888888,
             "#fdca26"
            ],
            [
             1,
             "#f0f921"
            ]
           ],
           "sequentialminus": [
            [
             0,
             "#0d0887"
            ],
            [
             0.1111111111111111,
             "#46039f"
            ],
            [
             0.2222222222222222,
             "#7201a8"
            ],
            [
             0.3333333333333333,
             "#9c179e"
            ],
            [
             0.4444444444444444,
             "#bd3786"
            ],
            [
             0.5555555555555556,
             "#d8576b"
            ],
            [
             0.6666666666666666,
             "#ed7953"
            ],
            [
             0.7777777777777778,
             "#fb9f3a"
            ],
            [
             0.8888888888888888,
             "#fdca26"
            ],
            [
             1,
             "#f0f921"
            ]
           ]
          },
          "colorway": [
           "#636efa",
           "#EF553B",
           "#00cc96",
           "#ab63fa",
           "#FFA15A",
           "#19d3f3",
           "#FF6692",
           "#B6E880",
           "#FF97FF",
           "#FECB52"
          ],
          "font": {
           "color": "#2a3f5f"
          },
          "geo": {
           "bgcolor": "white",
           "lakecolor": "white",
           "landcolor": "#E5ECF6",
           "showlakes": true,
           "showland": true,
           "subunitcolor": "white"
          },
          "hoverlabel": {
           "align": "left"
          },
          "hovermode": "closest",
          "mapbox": {
           "style": "light"
          },
          "paper_bgcolor": "white",
          "plot_bgcolor": "#E5ECF6",
          "polar": {
           "angularaxis": {
            "gridcolor": "white",
            "linecolor": "white",
            "ticks": ""
           },
           "bgcolor": "#E5ECF6",
           "radialaxis": {
            "gridcolor": "white",
            "linecolor": "white",
            "ticks": ""
           }
          },
          "scene": {
           "xaxis": {
            "backgroundcolor": "#E5ECF6",
            "gridcolor": "white",
            "gridwidth": 2,
            "linecolor": "white",
            "showbackground": true,
            "ticks": "",
            "zerolinecolor": "white"
           },
           "yaxis": {
            "backgroundcolor": "#E5ECF6",
            "gridcolor": "white",
            "gridwidth": 2,
            "linecolor": "white",
            "showbackground": true,
            "ticks": "",
            "zerolinecolor": "white"
           },
           "zaxis": {
            "backgroundcolor": "#E5ECF6",
            "gridcolor": "white",
            "gridwidth": 2,
            "linecolor": "white",
            "showbackground": true,
            "ticks": "",
            "zerolinecolor": "white"
           }
          },
          "shapedefaults": {
           "line": {
            "color": "#2a3f5f"
           }
          },
          "ternary": {
           "aaxis": {
            "gridcolor": "white",
            "linecolor": "white",
            "ticks": ""
           },
           "baxis": {
            "gridcolor": "white",
            "linecolor": "white",
            "ticks": ""
           },
           "bgcolor": "#E5ECF6",
           "caxis": {
            "gridcolor": "white",
            "linecolor": "white",
            "ticks": ""
           }
          },
          "title": {
           "x": 0.05
          },
          "xaxis": {
           "automargin": true,
           "gridcolor": "white",
           "linecolor": "white",
           "ticks": "",
           "title": {
            "standoff": 15
           },
           "zerolinecolor": "white",
           "zerolinewidth": 2
          },
          "yaxis": {
           "automargin": true,
           "gridcolor": "white",
           "linecolor": "white",
           "ticks": "",
           "title": {
            "standoff": 15
           },
           "zerolinecolor": "white",
           "zerolinewidth": 2
          }
         }
        }
       }
      },
      "image/png": "[encoded data removed]",
      "text/html": [
       "<div>                            <div id=\"58a9029f-56cf-4dde-9af8-c1fbb4bf37ec\" class=\"plotly-graph-div\" style=\"height:525px; width:100%;\"></div>            <script type=\"text/javascript\">                require([\"plotly\"], function(Plotly) {                    window.PLOTLYENV=window.PLOTLYENV || {};                                    if (document.getElementById(\"58a9029f-56cf-4dde-9af8-c1fbb4bf37ec\")) {                    Plotly.newPlot(                        \"58a9029f-56cf-4dde-9af8-c1fbb4bf37ec\",                        [{\"marker\":{\"color\":[1048.5,1827.0,585.0,1030.5,522.0,1399.5,283.5,1685.0,4149.0,1048.5,607.5,1290.0,1660.0,49.5,195.0,99.0,1165.5,4.5,1309.5,400.5,409.5,415.0,427.5,990.0,571.5,499.5,540.0,432.0,936.0,195.0,499.5,166.5,225.0,1071.0,195.0,1225.0,1620.0,415.0,49.5,3564.0,981.0,270.0,612.0,486.0,486.0,1080.0,486.0,774.0,3528.0,270.0,4610.0,427.5,571.5,985.5,845.0,405.0,1635.0,3528.0,95.0,235.0,405.0,770.0,415.0,420.0,420.0,504.0,423.0,139.5,770.0,415.0,981.0,1620.0,418.5,144.0,270.0,418.5,855.0,2235.0,990.0,1620.0,1980.0,1980.0,1980.0,1780.0,1980.0,1780.0,415.0,1728.0,1728.0,1579.5,1579.5,415.0,1579.5,1579.5,855.0,415.0,855.0,1620.0,1620.0,3528.0,3528.0,418.5,418.5],\"colorbar\":{\"title\":{\"text\":\"Canon Weighted Score\"},\"x\":1.2},\"colorscale\":[[0.0,\"yellow\"],[1.0,\"green\"]],\"opacity\":0.8,\"size\":6},\"mode\":\"markers\",\"name\":\"Canon\",\"x\":[4.5,4.5,4.5,4.5,4.5,4.5,4.5,5.0,4.5,4.5,4.5,5.0,5.0,4.5,5.0,4.5,4.5,4.5,4.5,4.5,4.5,5.0,4.5,4.5,4.5,4.5,4.5,4.5,4.5,5.0,4.5,4.5,5.0,4.5,5.0,5.0,5.0,5.0,4.5,4.5,4.5,5.0,4.5,4.5,4.5,4.5,4.5,4.5,4.5,5.0,5.0,4.5,4.5,4.5,5.0,4.5,5.0,4.5,5.0,5.0,4.5,5.0,5.0,5.0,5.0,4.5,4.5,4.5,5.0,5.0,4.5,5.0,4.5,4.5,5.0,4.5,4.5,5.0,4.5,5.0,4.5,4.5,4.5,5.0,4.5,5.0,5.0,4.5,4.5,4.5,4.5,5.0,4.5,4.5,4.5,5.0,4.5,5.0,5.0,4.5,4.5,4.5,4.5],\"y\":[4099.0,2099.0,699.0,699.0,849.0,999.0,629.0,3349.0,2999.0,579.0,1449.0,1399.0,2399.0,669.0,779.0,979.0,1449.0,2199.0,1199.0,1099.0,729.0,969.89,1449.0,5349.0,749.0,3399.0,1649.0,999.0,1199.0,866.94,1149.0,6799.0,879.0,899.0,741.1,1698.0,2632.93,1378.89,899.0,4249.0,2100.94,1586.89,4399.0,649.0,1786.89,1949.0,1586.89,2299.0,3230.93,1286.89,3399.0,4749.0,749.0,1600.94,2999.0,849.0,2199.0,4480.93,6499.0,559.0,729.0,807.95,849.89,1049.0,1079.0,1899.0,5299.0,199.0,688.0,1088.0,1569.0,2219.0,6399.0,199.0,1119.0,1349.0,1398.0,1499.0,2049.0,2508.0,549.99,549.99,565.97,565.97,654.5,654.5,849.0,879.99,879.99,895.97,895.97,969.89,1014.95,1014.95,1098.0,1258.0,1462.95,2666.0,2808.0,3852.98,4273.95,5999.0,7283.95],\"z\":[233,406,130,229,116,311,63,337,922,233,135,258,332,11,39,22,259,1,291,89,91,83,95,220,127,111,120,96,208,39,111,37,45,238,39,245,324,83,11,792,218,54,136,108,108,240,108,172,784,54,922,95,127,219,169,90,327,784,19,47,90,154,83,84,84,112,94,31,154,83,218,324,93,32,54,93,190,447,220,324,440,440,440,356,440,356,83,384,384,351,351,83,351,351,190,83,190,324,324,784,784,93,93],\"type\":\"scatter3d\"},{\"marker\":{\"color\":[765.0,1700.0,922.5,85.5,185.0,3745.0,765.0,180.0,285.0,652.5,531.0,886.5,765.0,1700.0,1363.5,1435.5,1363.5,886.5,285.0,652.5,922.5,765.0,765.0,765.0,1700.0,1700.0,531.0,531.0,285.0,657.0,922.5,657.0,285.0,922.5,1700.0,1700.0,409.5,765.0,765.0,185.0,1363.5,285.0,769.5,285.0,409.5,652.5,652.5,765.0,770.0,180.0,285.0,285.0,185.0,364.5,364.5,285.0,285.0,886.5,1700.0,1435.5,1435.5,295.0,180.0,285.0,769.5,886.5,922.5,922.5,922.5,765.0,652.5,1700.0,1700.0,1700.0,1435.5,1700.0,364.5,769.5,364.5,364.5,364.5,285.0,769.5,652.5,922.5,765.0,657.0,765.0,1700.0,1700.0,148.5,180.0,364.5,364.5,364.5,364.5,364.5,364.5,769.5,769.5,3415.0,2865.0,769.5,657.0,652.5,886.5,657.0,657.0,886.5,657.0,886.5,765.0,657.0,657.0,770.0,1700.0,1700.0,1435.5,180.0,180.0,769.5,180.0,180.0,364.5,100.0,886.5,180.0,285.0,285.0,285.0,886.5,886.5,922.5,657.0,600.0,657.0,657.0,657.0,657.0,657.0,922.5,657.0,922.5,652.5,657.0,886.5,886.5,765.0,922.5,657.0,922.5,922.5,1700.0,1700.0,765.0,1700.0,770.0,1700.0,1700.0,1435.5,1435.5],\"colorbar\":{\"title\":{\"text\":\"Nikon # of Reviews\"},\"x\":1.8},\"colorscale\":[[0.0,\"orange\"],[1.0,\"blue\"]],\"opacity\":0.8,\"size\":6},\"mode\":\"markers\",\"name\":\"Nikon\",\"x\":[5.0,5.0,4.5,4.5,5.0,5.0,5.0,5.0,5.0,4.5,4.5,4.5,5.0,5.0,4.5,4.5,4.5,4.5,5.0,4.5,4.5,5.0,5.0,5.0,5.0,5.0,4.5,4.5,5.0,4.5,4.5,4.5,5.0,4.5,5.0,5.0,4.5,5.0,5.0,5.0,4.5,5.0,4.5,5.0,4.5,4.5,4.5,5.0,5.0,5.0,5.0,5.0,5.0,4.5,4.5,5.0,5.0,4.5,5.0,4.5,4.5,5.0,5.0,5.0,4.5,4.5,4.5,4.5,4.5,5.0,4.5,5.0,5.0,5.0,4.5,5.0,4.5,4.5,4.5,4.5,4.5,5.0,4.5,4.5,4.5,5.0,4.5,5.0,5.0,5.0,4.5,5.0,4.5,4.5,4.5,4.5,4.5,4.5,4.5,4.5,5.0,5.0,4.5,4.5,4.5,4.5,4.5,4.5,4.5,4.5,4.5,5.0,4.5,4.5,5.0,5.0,5.0,4.5,5.0,5.0,4.5,5.0,5.0,4.5,5.0,4.5,5.0,5.0,5.0,5.0,4.5,4.5,4.5,4.5,5.0,4.5,4.5,4.5,4.5,4.5,4.5,4.5,4.5,4.5,4.5,4.5,4.5,5.0,4.5,4.5,4.5,4.5,5.0,5.0,5.0,5.0,5.0,5.0,5.0,4.5,4.5],\"y\":[2196.95,3796.95,1996.95,1146.95,1696.95,1996.95,3243.9,796.95,1006.95,1996.95,846.95,1546.95,2196.95,3796.95,796.95,5396.95,1096.95,1546.95,1526.84,2436.95,3043.9,3413.84,2796.95,3243.9,3939.39,4839.39,869.5,951.95,1683.9,1996.95,1996.95,3043.9,1276.84,3043.9,4093.9,4093.9,2046.95,2366.89,2493.9,2496.95,1043.9,1136.84,1146.95,1396.95,1546.95,2096.95,2236.95,2493.9,2966.89,946.95,1006.95,1813.79,1996.95,956.95,1096.95,1146.95,1396.95,2593.9,4236.34,5396.95,5693.9,799.0,1046.95,1146.95,1446.95,2146.95,2293.9,2383.84,2596.95,2663.84,2796.95,4276.39,4573.34,4696.95,5698.44,6136.34,1096.95,1146.95,1196.95,1196.95,1196.95,1703.9,1946.95,1996.95,2596.95,2693.9,3043.9,4563.84,5176.39,5993.9,6496.95,706.95,1096.95,1096.95,1196.95,1196.95,1196.95,1253.9,1443.9,1446.95,1599.95,1699.95,1946.95,2096.95,2096.95,2146.95,2423.9,2513.84,2593.9,2596.95,2783.84,2885.3,3143.9,3143.9,4393.9,4696.95,5993.9,7895.39,706.95,796.95,799.0,946.95,946.95,956.95,999.0,999.95,1046.95,1273.9,1293.9,1343.9,1843.9,2043.9,2086.89,2096.95,2199.0,2293.9,2323.9,2413.84,2423.9,2423.9,2493.9,2493.9,2583.84,2596.95,2683.84,2693.9,2693.9,2796.95,3133.84,3143.9,4193.9,4193.9,4293.9,4293.9,4393.9,4785.3,5082.25,5993.9,5993.9,5995.39,7593.9],\"z\":[153,340,205,19,37,749,153,36,57,145,118,197,153,340,303,319,303,197,57,145,205,153,153,153,340,340,118,118,57,146,205,146,57,205,340,340,91,153,153,37,303,57,171,57,91,145,145,153,154,36,57,57,37,81,81,57,57,197,340,319,319,59,36,57,171,197,205,205,205,153,145,340,340,340,319,340,81,171,81,81,81,57,171,145,205,153,146,153,340,340,33,36,81,81,81,81,81,81,171,171,683,573,171,146,145,197,146,146,197,146,197,153,146,146,154,340,340,319,36,36,171,36,36,81,20,197,36,57,57,57,197,197,205,146,120,146,146,146,146,146,205,146,205,145,146,197,197,153,205,146,205,205,340,340,153,340,154,340,340,319,319],\"type\":\"scatter3d\"}],                        {\"template\":{\"data\":{\"histogram2dcontour\":[{\"type\":\"histogram2dcontour\",\"colorbar\":{\"outlinewidth\":0,\"ticks\":\"\"},\"colorscale\":[[0.0,\"#0d0887\"],[0.1111111111111111,\"#46039f\"],[0.2222222222222222,\"#7201a8\"],[0.3333333333333333,\"#9c179e\"],[0.4444444444444444,\"#bd3786\"],[0.5555555555555556,\"#d8576b\"],[0.6666666666666666,\"#ed7953\"],[0.7777777777777778,\"#fb9f3a\"],[0.8888888888888888,\"#fdca26\"],[1.0,\"#f0f921\"]]}],\"choropleth\":[{\"type\":\"choropleth\",\"colorbar\":{\"outlinewidth\":0,\"ticks\":\"\"}}],\"histogram2d\":[{\"type\":\"histogram2d\",\"colorbar\":{\"outlinewidth\":0,\"ticks\":\"\"},\"colorscale\":[[0.0,\"#0d0887\"],[0.1111111111111111,\"#46039f\"],[0.2222222222222222,\"#7201a8\"],[0.3333333333333333,\"#9c179e\"],[0.4444444444444444,\"#bd3786\"],[0.5555555555555556,\"#d8576b\"],[0.6666666666666666,\"#ed7953\"],[0.7777777777777778,\"#fb9f3a\"],[0.8888888888888888,\"#fdca26\"],[1.0,\"#f0f921\"]]}],\"heatmap\":[{\"type\":\"heatmap\",\"colorbar\":{\"outlinewidth\":0,\"ticks\":\"\"},\"colorscale\":[[0.0,\"#0d0887\"],[0.1111111111111111,\"#46039f\"],[0.2222222222222222,\"#7201a8\"],[0.3333333333333333,\"#9c179e\"],[0.4444444444444444,\"#bd3786\"],[0.5555555555555556,\"#d8576b\"],[0.6666666666666666,\"#ed7953\"],[0.7777777777777778,\"#fb9f3a\"],[0.8888888888888888,\"#fdca26\"],[1.0,\"#f0f921\"]]}],\"heatmapgl\":[{\"type\":\"heatmapgl\",\"colorbar\":{\"outlinewidth\":0,\"ticks\":\"\"},\"colorscale\":[[0.0,\"#0d0887\"],[0.1111111111111111,\"#46039f\"],[0.2222222222222222,\"#7201a8\"],[0.3333333333333333,\"#9c179e\"],[0.4444444444444444,\"#bd3786\"],[0.5555555555555556,\"#d8576b\"],[0.6666666666666666,\"#ed7953\"],[0.7777777777777778,\"#fb9f3a\"],[0.8888888888888888,\"#fdca26\"],[1.0,\"#f0f921\"]]}],\"contourcarpet\":[{\"type\":\"contourcarpet\",\"colorbar\":{\"outlinewidth\":0,\"ticks\":\"\"}}],\"contour\":[{\"type\":\"contour\",\"colorbar\":{\"outlinewidth\":0,\"ticks\":\"\"},\"colorscale\":[[0.0,\"#0d0887\"],[0.1111111111111111,\"#46039f\"],[0.2222222222222222,\"#7201a8\"],[0.3333333333333333,\"#9c179e\"],[0.4444444444444444,\"#bd3786\"],[0.5555555555555556,\"#d8576b\"],[0.6666666666666666,\"#ed7953\"],[0.7777777777777778,\"#fb9f3a\"],[0.8888888888888888,\"#fdca26\"],[1.0,\"#f0f921\"]]}],\"surface\":[{\"type\":\"surface\",\"colorbar\":{\"outlinewidth\":0,\"ticks\":\"\"},\"colorscale\":[[0.0,\"#0d0887\"],[0.1111111111111111,\"#46039f\"],[0.2222222222222222,\"#7201a8\"],[0.3333333333333333,\"#9c179e\"],[0.4444444444444444,\"#bd3786\"],[0.5555555555555556,\"#d8576b\"],[0.6666666666666666,\"#ed7953\"],[0.7777777777777778,\"#fb9f3a\"],[0.8888888888888888,\"#fdca26\"],[1.0,\"#f0f921\"]]}],\"mesh3d\":[{\"type\":\"mesh3d\",\"colorbar\":{\"outlinewidth\":0,\"ticks\":\"\"}}],\"scatter\":[{\"fillpattern\":{\"fillmode\":\"overlay\",\"size\":10,\"solidity\":0.2},\"type\":\"scatter\"}],\"parcoords\":[{\"type\":\"parcoords\",\"line\":{\"colorbar\":{\"outlinewidth\":0,\"ticks\":\"\"}}}],\"scatterpolargl\":[{\"type\":\"scatterpolargl\",\"marker\":{\"colorbar\":{\"outlinewidth\":0,\"ticks\":\"\"}}}],\"bar\":[{\"error_x\":{\"color\":\"#2a3f5f\"},\"error_y\":{\"color\":\"#2a3f5f\"},\"marker\":{\"line\":{\"color\":\"#E5ECF6\",\"width\":0.5},\"pattern\":{\"fillmode\":\"overlay\",\"size\":10,\"solidity\":0.2}},\"type\":\"bar\"}],\"scattergeo\":[{\"type\":\"scattergeo\",\"marker\":{\"colorbar\":{\"outlinewidth\":0,\"ticks\":\"\"}}}],\"scatterpolar\":[{\"type\":\"scatterpolar\",\"marker\":{\"colorbar\":{\"outlinewidth\":0,\"ticks\":\"\"}}}],\"histogram\":[{\"marker\":{\"pattern\":{\"fillmode\":\"overlay\",\"size\":10,\"solidity\":0.2}},\"type\":\"histogram\"}],\"scattergl\":[{\"type\":\"scattergl\",\"marker\":{\"colorbar\":{\"outlinewidth\":0,\"ticks\":\"\"}}}],\"scatter3d\":[{\"type\":\"scatter3d\",\"line\":{\"colorbar\":{\"outlinewidth\":0,\"ticks\":\"\"}},\"marker\":{\"colorbar\":{\"outlinewidth\":0,\"ticks\":\"\"}}}],\"scattermapbox\":[{\"type\":\"scattermapbox\",\"marker\":{\"colorbar\":{\"outlinewidth\":0,\"ticks\":\"\"}}}],\"scatterternary\":[{\"type\":\"scatterternary\",\"marker\":{\"colorbar\":{\"outlinewidth\":0,\"ticks\":\"\"}}}],\"scattercarpet\":[{\"type\":\"scattercarpet\",\"marker\":{\"colorbar\":{\"outlinewidth\":0,\"ticks\":\"\"}}}],\"carpet\":[{\"aaxis\":{\"endlinecolor\":\"#2a3f5f\",\"gridcolor\":\"white\",\"linecolor\":\"white\",\"minorgridcolor\":\"white\",\"startlinecolor\":\"#2a3f5f\"},\"baxis\":{\"endlinecolor\":\"#2a3f5f\",\"gridcolor\":\"white\",\"linecolor\":\"white\",\"minorgridcolor\":\"white\",\"startlinecolor\":\"#2a3f5f\"},\"type\":\"carpet\"}],\"table\":[{\"cells\":{\"fill\":{\"color\":\"#EBF0F8\"},\"line\":{\"color\":\"white\"}},\"header\":{\"fill\":{\"color\":\"#C8D4E3\"},\"line\":{\"color\":\"white\"}},\"type\":\"table\"}],\"barpolar\":[{\"marker\":{\"line\":{\"color\":\"#E5ECF6\",\"width\":0.5},\"pattern\":{\"fillmode\":\"overlay\",\"size\":10,\"solidity\":0.2}},\"type\":\"barpolar\"}],\"pie\":[{\"automargin\":true,\"type\":\"pie\"}]},\"layout\":{\"autotypenumbers\":\"strict\",\"colorway\":[\"#636efa\",\"#EF553B\",\"#00cc96\",\"#ab63fa\",\"#FFA15A\",\"#19d3f3\",\"#FF6692\",\"#B6E880\",\"#FF97FF\",\"#FECB52\"],\"font\":{\"color\":\"#2a3f5f\"},\"hovermode\":\"closest\",\"hoverlabel\":{\"align\":\"left\"},\"paper_bgcolor\":\"white\",\"plot_bgcolor\":\"#E5ECF6\",\"polar\":{\"bgcolor\":\"#E5ECF6\",\"angularaxis\":{\"gridcolor\":\"white\",\"linecolor\":\"white\",\"ticks\":\"\"},\"radialaxis\":{\"gridcolor\":\"white\",\"linecolor\":\"white\",\"ticks\":\"\"}},\"ternary\":{\"bgcolor\":\"#E5ECF6\",\"aaxis\":{\"gridcolor\":\"white\",\"linecolor\":\"white\",\"ticks\":\"\"},\"baxis\":{\"gridcolor\":\"white\",\"linecolor\":\"white\",\"ticks\":\"\"},\"caxis\":{\"gridcolor\":\"white\",\"linecolor\":\"white\",\"ticks\":\"\"}},\"coloraxis\":{\"colorbar\":{\"outlinewidth\":0,\"ticks\":\"\"}},\"colorscale\":{\"sequential\":[[0.0,\"#0d0887\"],[0.1111111111111111,\"#46039f\"],[0.2222222222222222,\"#7201a8\"],[0.3333333333333333,\"#9c179e\"],[0.4444444444444444,\"#bd3786\"],[0.5555555555555556,\"#d8576b\"],[0.6666666666666666,\"#ed7953\"],[0.7777777777777778,\"#fb9f3a\"],[0.8888888888888888,\"#fdca26\"],[1.0,\"#f0f921\"]],\"sequentialminus\":[[0.0,\"#0d0887\"],[0.1111111111111111,\"#46039f\"],[0.2222222222222222,\"#7201a8\"],[0.3333333333333333,\"#9c179e\"],[0.4444444444444444,\"#bd3786\"],[0.5555555555555556,\"#d8576b\"],[0.6666666666666666,\"#ed7953\"],[0.7777777777777778,\"#fb9f3a\"],[0.8888888888888888,\"#fdca26\"],[1.0,\"#f0f921\"]],\"diverging\":[[0,\"#8e0152\"],[0.1,\"#c51b7d\"],[0.2,\"#de77ae\"],[0.3,\"#f1b6da\"],[0.4,\"#fde0ef\"],[0.5,\"#f7f7f7\"],[0.6,\"#e6f5d0\"],[0.7,\"#b8e186\"],[0.8,\"#7fbc41\"],[0.9,\"#4d9221\"],[1,\"#276419\"]]},\"xaxis\":{\"gridcolor\":\"white\",\"linecolor\":\"white\",\"ticks\":\"\",\"title\":{\"standoff\":15},\"zerolinecolor\":\"white\",\"automargin\":true,\"zerolinewidth\":2},\"yaxis\":{\"gridcolor\":\"white\",\"linecolor\":\"white\",\"ticks\":\"\",\"title\":{\"standoff\":15},\"zerolinecolor\":\"white\",\"automargin\":true,\"zerolinewidth\":2},\"scene\":{\"xaxis\":{\"backgroundcolor\":\"#E5ECF6\",\"gridcolor\":\"white\",\"linecolor\":\"white\",\"showbackground\":true,\"ticks\":\"\",\"zerolinecolor\":\"white\",\"gridwidth\":2},\"yaxis\":{\"backgroundcolor\":\"#E5ECF6\",\"gridcolor\":\"white\",\"linecolor\":\"white\",\"showbackground\":true,\"ticks\":\"\",\"zerolinecolor\":\"white\",\"gridwidth\":2},\"zaxis\":{\"backgroundcolor\":\"#E5ECF6\",\"gridcolor\":\"white\",\"linecolor\":\"white\",\"showbackground\":true,\"ticks\":\"\",\"zerolinecolor\":\"white\",\"gridwidth\":2}},\"shapedefaults\":{\"line\":{\"color\":\"#2a3f5f\"}},\"annotationdefaults\":{\"arrowcolor\":\"#2a3f5f\",\"arrowhead\":0,\"arrowwidth\":1},\"geo\":{\"bgcolor\":\"white\",\"landcolor\":\"#E5ECF6\",\"subunitcolor\":\"white\",\"showland\":true,\"showlakes\":true,\"lakecolor\":\"white\"},\"title\":{\"x\":0.05},\"mapbox\":{\"style\":\"light\"}}},\"showlegend\":false,\"scene\":{\"xaxis\":{\"title\":{\"text\":\"Rating (Stars)\"},\"tickvals\":[4.5,5.0],\"ticktext\":[\"4.5\",\"5.0\"]},\"yaxis\":{\"title\":{\"text\":\"Price ($)\"},\"tickvals\":[0,2500,5000,7500,10000],\"ticktext\":[\"0\",\"2.5k\",\"5k\",\"7.5k\",\"10k\"]},\"zaxis\":{\"title\":{\"text\":\"# of Reviews\"},\"tickvals\":[0,250,500,750,1000],\"ticktext\":[\"0\",\"250\",\"500\",\"750\",\"1000\"]}}},                        {\"responsive\": true}                    ).then(function(){\n",
       "                            \n",
       "var gd = document.getElementById('58a9029f-56cf-4dde-9af8-c1fbb4bf37ec');\n",
       "var x = new MutationObserver(function (mutations, observer) {{\n",
       "        var display = window.getComputedStyle(gd).display;\n",
       "        if (!display || display === 'none') {{\n",
       "            console.log([gd, 'removed!']);\n",
       "            Plotly.purge(gd);\n",
       "            observer.disconnect();\n",
       "        }}\n",
       "}});\n",
       "\n",
       "// Listen for the removal of the full notebook cells\n",
       "var notebookContainer = gd.closest('#notebook-container');\n",
       "if (notebookContainer) {{\n",
       "    x.observe(notebookContainer, {childList: true});\n",
       "}}\n",
       "\n",
       "// Listen for the clearing of the current output cell\n",
       "var outputEl = gd.closest('.output');\n",
       "if (outputEl) {{\n",
       "    x.observe(outputEl, {childList: true});\n",
       "}}\n",
       "\n",
       "                        })                };                });            </script>        </div>"
      ]
     },
     "metadata": {},
     "output_type": "display_data"
    }
   ],
   "source": [
    "nikon_df = pd.DataFrame.from_dict(\n",
    "    nikons,\n",
    "    orient='index',\n",
    "    columns=['company', 'reviewQtyInt', 'rating', 'weightedScore', 'price']\n",
    ").reset_index().rename(columns={'index': 'product'})\n",
    "\n",
    "canon_df = pd.DataFrame.from_dict(\n",
    "    canons,\n",
    "    orient='index',\n",
    "    columns=['company', 'reviewQtyInt', 'rating', 'weightedScore', 'price']\n",
    ").reset_index().rename(columns={'index': 'product'})\n",
    "\n",
    "fig = go.Figure()\n",
    "fig.update_layout(showlegend=False)\n",
    "fig.update_layout(scene=dict(\n",
    "    xaxis=dict(\n",
    "        title='Rating (Stars)',\n",
    "        tickvals=[4.5, 5.0],\n",
    "        ticktext=['4.5', '5.0']\n",
    "    ),\n",
    "    yaxis=dict(\n",
    "        title='Price ($)',\n",
    "        tickvals=[0, 2500, 5000, 7500, 10000],\n",
    "        ticktext=['0', '2.5k', '5k', '7.5k', '10k']\n",
    "    ),\n",
    "    zaxis=dict(\n",
    "        title='# of Reviews',\n",
    "        tickvals=[0, 250, 500, 750, 1000],\n",
    "        ticktext=['0', '250', '500', '750', '1000']\n",
    "    )\n",
    "))\n",
    "\n",
    "custom_scale_canon = [(0.0, \"yellow\"), (1.0, \"green\")]\n",
    "custom_scale_nikon = [(0.0, \"orange\"), (1.0, \"blue\")]\n",
    "\n",
    "\n",
    "fig.add_trace(go.Scatter3d(\n",
    "    x=canon_df['rating'],\n",
    "    y=canon_df['price'],\n",
    "    z=canon_df['reviewQtyInt'],\n",
    " #   text=canon_df['product'],\n",
    "    mode='markers',\n",
    "    marker=dict(\n",
    "        size=6,\n",
    "        color=canon_df['weightedScore'],\n",
    "        colorscale=custom_scale_canon,\n",
    "        colorbar=dict(title='Canon Weighted Score', x=1.2),\n",
    "        opacity=0.8\n",
    "    ),\n",
    "    name='Canon'\n",
    "))\n",
    "\n",
    "fig.add_trace(go.Scatter3d(\n",
    "    x=nikon_df['rating'],\n",
    "    y=nikon_df['price'],\n",
    "    z=nikon_df['reviewQtyInt'],\n",
    "   # text=nikon_df['product'],\n",
    "    mode='markers',\n",
    "    marker=dict(\n",
    "        size=6,\n",
    "        color=nikon_df['weightedScore'],\n",
    "        colorscale=custom_scale_nikon,\n",
    "        colorbar=dict(title='Nikon # of Reviews', x=1.8),\n",
    "        opacity=0.8\n",
    "    ),\n",
    "    name='Nikon'\n",
    "))\n",
    "\n",
    "\n",
    "\n",
    "\n",
    "fig.show()"
   ]
  },
  {
   "cell_type": "markdown",
   "id": "dacb73b7-11a6-4a8a-a570-ff60336200fb",
   "metadata": {},
   "source": [
    "**Conclusion from data:**\n",
    "\n",
    "I am drawing conclusions in three price ranges: 0-2500, 2500-5000, and 5000+. I consider cameras with either 4.5 or 5.0 stars on the 5.0 scale in this study. I am defining a 'better' camera to be one with more reviews and a high average rating.\n",
    "\n",
    "In the 0-2500 range, both companies have a similar number of cameras. However, Nikon models in this price range attract more total reviews, suggesting higher popularity within the entry-level cameras. A few Nikon cameras significantly outperform all of the cameras in this range as well.\n",
    "\n",
    "In the 2500-5000 range, Canon boasts multiple highly rated cameras, and this trend is strong throughout the section. Their presence in this mid-tier indicates effective coverage of the dedicated enthusiasts and semi-professionals. Nikon is a close competitor, but with fewer stand-out models.\n",
    "\n",
    "In the 5000+ range, Nikon leads clearly, offering more cameras. Regardless of how many cameras, Nikon accumulates substantially more reviews than Canon's equivalents. Their dominance symbolizes their strength in premium and professional gear.\n",
    "\n",
    "Overall, Nikon's strength lies at the top and bottom of the market - excelling with both entry-level enthusiasts and high-end professionals. Canon captures the middle, appealing strongly to advanced consumers seeking premium, but not flagship products."
   ]
  },
  {
   "cell_type": "code",
   "execution_count": null,
   "id": "15a96435-8f0c-479d-8c92-3ad076aed804",
   "metadata": {},
   "outputs": [],
   "source": [
    "\n",
    "  #class =\"product_UCJ1nUFwhh\"\n",
    "  #class=\"productInner_UCJ1nUFwhh\"\n",
    "  #class=\"desc_UCJ1nUFwhh\"\n",
    "    #class=\"name_UCJ1nUFwhh\"\n",
    "    #class=\"rating_bNk7GOVjfB\" (rating box)\n",
    "      #class=\"starContainer_FndXTbqvBb\"\n",
    "        #<use href=\"#StarIcon\"></use>\n",
    "        #<use href=\"#StarHalfIcon\"></use>"
   ]
  },
  {
   "cell_type": "code",
   "execution_count": null,
   "id": "26ce4759-a5ca-48bd-ba08-363f33bad007",
   "metadata": {},
   "outputs": [],
   "source": []
  },
  {
   "cell_type": "code",
   "execution_count": null,
   "id": "81f90418-4c62-428f-9705-bf3aec6a7a36",
   "metadata": {},
   "outputs": [],
   "source": []
  },
  {
   "cell_type": "code",
   "execution_count": null,
   "id": "beabbe17-f05f-4458-87a8-fcbd51411d2c",
   "metadata": {},
   "outputs": [],
   "source": []
  }
 ],
 "metadata": {
  "kernelspec": {
   "display_name": "Python [conda env:base] *",
   "language": "python",
   "name": "conda-base-py"
  },
  "language_info": {
   "codemirror_mode": {
    "name": "ipython",
    "version": 3
   },
   "file_extension": ".py",
   "mimetype": "text/x-python",
   "name": "python",
   "nbconvert_exporter": "python",
   "pygments_lexer": "ipython3",
   "version": "3.13.5"
  }
 },
 "nbformat": 4,
 "nbformat_minor": 5
}
